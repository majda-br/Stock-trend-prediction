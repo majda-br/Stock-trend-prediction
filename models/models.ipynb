{
 "cells": [
  {
   "cell_type": "markdown",
   "metadata": {
    "id": "yi61g2KeNIbP"
   },
   "source": [
    "# Project Models - CART, Random Forest, Boosting"
   ]
  },
  {
   "cell_type": "code",
   "execution_count": 279,
   "metadata": {
    "id": "DtroNHr2NIbQ"
   },
   "outputs": [],
   "source": [
    "import numpy as np\n",
    "import pandas as pd\n",
    "import matplotlib.pyplot as plt\n",
    "import time\n",
    "\n",
    "from sklearn.model_selection import train_test_split, GridSearchCV, KFold\n",
    "from sklearn.tree import DecisionTreeRegressor, DecisionTreeClassifier\n",
    "from sklearn.ensemble import RandomForestRegressor, GradientBoostingRegressor, RandomForestClassifier\n",
    "from sklearn.linear_model import LinearRegression\n",
    "from scipy import stats\n",
    "from scipy.stats import pearsonr\n",
    "from sklearn.metrics import mean_squared_error, mean_absolute_error, confusion_matrix, roc_curve, auc\n",
    "from sklearn.utils import resample\n",
    "from sklearn import datasets, linear_model\n",
    "import statsmodels.api as sm\n",
    "import statsmodels.formula.api as smf\n",
    "from statsmodels.stats.outliers_influence import variance_inflation_factor "
   ]
  },
  {
   "cell_type": "code",
   "execution_count": 280,
   "metadata": {},
   "outputs": [],
   "source": [
    "# Helper functions\n",
    "\n",
    "def VIF(df, columns): \n",
    "    values=sm.add_constant(df[columns]).values\n",
    "    # the dataframe passed to VIF␣ ↪ must include the intercept term. We add it the same way we did before. \n",
    "    num_columns=len(columns)+1#we added intercept \n",
    "    vif=[variance_inflation_factor(values, i) for i in range(num_columns)] \n",
    "    return pd.Series(vif[1:], index=columns)\n",
    "def OSR2(model, y_train, x_test,y_test):\n",
    "    y_pred=model.predict(x_test) \n",
    "    SSE=np.sum((y_test-y_pred)**2) \n",
    "    SST=np.sum((y_test-np.mean(y_train))**2) \n",
    "    return 1-(SSE/SST)\n",
    "def avg_error(y_pred, y_test):\n",
    "    return np.average(abs((y_pred - y_test) / y_test))"
   ]
  },
  {
   "cell_type": "markdown",
   "metadata": {},
   "source": [
    "## Load Data - Train & Test split with time benchmark"
   ]
  },
  {
   "cell_type": "code",
   "execution_count": 281,
   "metadata": {
    "id": "zRnchKRNNIbR",
    "outputId": "e595325e-32a4-438b-fa5d-aca871ac3d40"
   },
   "outputs": [],
   "source": [
    "training_data, testing_data = pd.read_csv('../features_train.csv'), pd.read_csv('../features_test.csv')\n",
    "training_data.drop(columns=['since', 'until','Unnamed: 0'], inplace=True)\n",
    "testing_data.drop(columns=['since', 'until','Unnamed: 0'], inplace=True)\n",
    "\n",
    "training_data['Previous Sentiment'] = training_data['Sentiment'].shift(1)\n",
    "training_data = training_data[1:]\n",
    "testing_data['Previous Sentiment'] = testing_data['Sentiment'].shift(1)\n",
    "testing_data = testing_data[1:]"
   ]
  },
  {
   "cell_type": "markdown",
   "metadata": {},
   "source": [
    "## Linear Regression & Feature Engineering"
   ]
  },
  {
   "cell_type": "code",
   "execution_count": 282,
   "metadata": {},
   "outputs": [
    {
     "data": {
      "text/html": [
       "<div>\n",
       "<style scoped>\n",
       "    .dataframe tbody tr th:only-of-type {\n",
       "        vertical-align: middle;\n",
       "    }\n",
       "\n",
       "    .dataframe tbody tr th {\n",
       "        vertical-align: top;\n",
       "    }\n",
       "\n",
       "    .dataframe thead th {\n",
       "        text-align: right;\n",
       "    }\n",
       "</style>\n",
       "<table border=\"1\" class=\"dataframe\">\n",
       "  <thead>\n",
       "    <tr style=\"text-align: right;\">\n",
       "      <th></th>\n",
       "      <th>S&amp;P 500 Variance</th>\n",
       "      <th>Ford Stock Price</th>\n",
       "      <th>GM Stock Price</th>\n",
       "      <th>Toyota Stock Price</th>\n",
       "      <th>Nissan Stock Price</th>\n",
       "      <th>Tesla Wikipedia Page Views</th>\n",
       "      <th>Sentiment</th>\n",
       "      <th>Previous Week Tesla Stock Price</th>\n",
       "      <th>Previous Sentiment</th>\n",
       "    </tr>\n",
       "  </thead>\n",
       "  <tbody>\n",
       "    <tr>\n",
       "      <th>1</th>\n",
       "      <td>991.539720</td>\n",
       "      <td>9.175</td>\n",
       "      <td>35.2625</td>\n",
       "      <td>141.020000</td>\n",
       "      <td>11.4350</td>\n",
       "      <td>4993.25</td>\n",
       "      <td>0.092409</td>\n",
       "      <td>33.525466</td>\n",
       "      <td>0.170538</td>\n",
       "    </tr>\n",
       "    <tr>\n",
       "      <th>2</th>\n",
       "      <td>1177.017305</td>\n",
       "      <td>8.912</td>\n",
       "      <td>33.6580</td>\n",
       "      <td>141.806000</td>\n",
       "      <td>10.9860</td>\n",
       "      <td>5090.60</td>\n",
       "      <td>0.134267</td>\n",
       "      <td>35.679167</td>\n",
       "      <td>0.092409</td>\n",
       "    </tr>\n",
       "    <tr>\n",
       "      <th>3</th>\n",
       "      <td>952.388795</td>\n",
       "      <td>8.566</td>\n",
       "      <td>34.2160</td>\n",
       "      <td>141.556000</td>\n",
       "      <td>10.8040</td>\n",
       "      <td>7696.80</td>\n",
       "      <td>0.231126</td>\n",
       "      <td>38.820533</td>\n",
       "      <td>0.134267</td>\n",
       "    </tr>\n",
       "    <tr>\n",
       "      <th>4</th>\n",
       "      <td>1357.345395</td>\n",
       "      <td>8.150</td>\n",
       "      <td>34.9600</td>\n",
       "      <td>141.413998</td>\n",
       "      <td>10.2300</td>\n",
       "      <td>4934.60</td>\n",
       "      <td>0.205790</td>\n",
       "      <td>51.983867</td>\n",
       "      <td>0.231126</td>\n",
       "    </tr>\n",
       "    <tr>\n",
       "      <th>5</th>\n",
       "      <td>2220.081724</td>\n",
       "      <td>7.995</td>\n",
       "      <td>34.8175</td>\n",
       "      <td>138.842499</td>\n",
       "      <td>9.0725</td>\n",
       "      <td>5107.75</td>\n",
       "      <td>0.105737</td>\n",
       "      <td>52.226400</td>\n",
       "      <td>0.205790</td>\n",
       "    </tr>\n",
       "  </tbody>\n",
       "</table>\n",
       "</div>"
      ],
      "text/plain": [
       "   S&P 500 Variance  Ford Stock Price  GM Stock Price  Toyota Stock Price  \\\n",
       "1        991.539720             9.175         35.2625          141.020000   \n",
       "2       1177.017305             8.912         33.6580          141.806000   \n",
       "3        952.388795             8.566         34.2160          141.556000   \n",
       "4       1357.345395             8.150         34.9600          141.413998   \n",
       "5       2220.081724             7.995         34.8175          138.842499   \n",
       "\n",
       "   Nissan Stock Price  Tesla Wikipedia Page Views  Sentiment  \\\n",
       "1             11.4350                     4993.25   0.092409   \n",
       "2             10.9860                     5090.60   0.134267   \n",
       "3             10.8040                     7696.80   0.231126   \n",
       "4             10.2300                     4934.60   0.205790   \n",
       "5              9.0725                     5107.75   0.105737   \n",
       "\n",
       "   Previous Week Tesla Stock Price  Previous Sentiment  \n",
       "1                        33.525466            0.170538  \n",
       "2                        35.679167            0.092409  \n",
       "3                        38.820533            0.134267  \n",
       "4                        51.983867            0.231126  \n",
       "5                        52.226400            0.205790  "
      ]
     },
     "execution_count": 282,
     "metadata": {},
     "output_type": "execute_result"
    }
   ],
   "source": [
    "X_train = training_data.drop(columns=['Tesla Stock Price'])\n",
    "y_train = training_data['Tesla Stock Price']\n",
    "X_test = testing_data.drop(columns=['Tesla Stock Price'])\n",
    "y_test = testing_data['Tesla Stock Price']\n",
    "\n",
    "#use only the important features\n",
    "features = X_train.columns\n",
    "X_test.head()"
   ]
  },
  {
   "cell_type": "code",
   "execution_count": 283,
   "metadata": {},
   "outputs": [
    {
     "name": "stdout",
     "output_type": "stream",
     "text": [
      "                            OLS Regression Results                            \n",
      "==============================================================================\n",
      "Dep. Variable:      Tesla Stock Price   R-squared:                       0.989\n",
      "Model:                            OLS   Adj. R-squared:                  0.989\n",
      "Method:                 Least Squares   F-statistic:                     4236.\n",
      "Date:                Wed, 01 May 2024   Prob (F-statistic):               0.00\n",
      "Time:                        23:41:42   Log-Likelihood:                -517.44\n",
      "No. Observations:                 433   AIC:                             1055.\n",
      "Df Residuals:                     423   BIC:                             1096.\n",
      "Df Model:                           9                                         \n",
      "Covariance Type:            nonrobust                                         \n",
      "===================================================================================================\n",
      "                                      coef    std err          t      P>|t|      [0.025      0.975]\n",
      "---------------------------------------------------------------------------------------------------\n",
      "const                              -0.7771      0.503     -1.545      0.123      -1.766       0.211\n",
      "S&P 500 Variance                 6.368e-06   1.89e-05      0.337      0.736   -3.08e-05    4.35e-05\n",
      "Ford Stock Price                   -0.0254      0.022     -1.140      0.255      -0.069       0.018\n",
      "GM Stock Price                      0.0156      0.012      1.323      0.186      -0.008       0.039\n",
      "Toyota Stock Price                  0.0075      0.004      1.957      0.051    -3.2e-05       0.015\n",
      "Nissan Stock Price                 -0.0031      0.022     -0.141      0.888      -0.047       0.041\n",
      "Tesla Wikipedia Page Views        1.49e-06   3.49e-05      0.043      0.966   -6.72e-05    7.02e-05\n",
      "Sentiment                           0.4513      0.487      0.928      0.354      -0.505       1.408\n",
      "Previous Week Tesla Stock Price     0.9751      0.011     89.385      0.000       0.954       0.997\n",
      "Previous Sentiment                  0.6671      0.487      1.369      0.172      -0.291       1.625\n",
      "==============================================================================\n",
      "Omnibus:                       36.631   Durbin-Watson:                   1.624\n",
      "Prob(Omnibus):                  0.000   Jarque-Bera (JB):              151.274\n",
      "Skew:                           0.182   Prob(JB):                     1.42e-33\n",
      "Kurtosis:                       5.873   Cond. No.                     5.56e+04\n",
      "==============================================================================\n",
      "\n",
      "Notes:\n",
      "[1] Standard Errors assume that the covariance matrix of the errors is correctly specified.\n",
      "[2] The condition number is large, 5.56e+04. This might indicate that there are\n",
      "strong multicollinearity or other numerical problems.\n",
      "S&P 500 Variance                   1.090816\n",
      "Ford Stock Price                   2.108035\n",
      "GM Stock Price                     2.714255\n",
      "Toyota Stock Price                 4.491541\n",
      "Nissan Stock Price                 1.467041\n",
      "Tesla Wikipedia Page Views         2.238335\n",
      "Sentiment                          1.428453\n",
      "Previous Week Tesla Stock Price    4.558583\n",
      "Previous Sentiment                 1.432011\n",
      "dtype: float64\n"
     ]
    }
   ],
   "source": [
    "#Now we want to see how the model behaves. We train the linear regression.\n",
    "#We will mostly focus on the p-values, the VIF values, and R2.\n",
    "X=X_train\n",
    "Y=y_train\n",
    "X2 = sm.add_constant(X)\n",
    "lrm=sm.OLS(Y, X2).fit()\n",
    "print(lrm.summary())\n",
    "print(VIF(training_data, features))\n",
    "\n",
    "pd.set_option('display.max_colwidth', None) "
   ]
  },
  {
   "cell_type": "code",
   "execution_count": 284,
   "metadata": {},
   "outputs": [
    {
     "name": "stdout",
     "output_type": "stream",
     "text": [
      "                            OLS Regression Results                            \n",
      "==============================================================================\n",
      "Dep. Variable:      Tesla Stock Price   R-squared:                       0.989\n",
      "Model:                            OLS   Adj. R-squared:                  0.989\n",
      "Method:                 Least Squares   F-statistic:                     4777.\n",
      "Date:                Wed, 01 May 2024   Prob (F-statistic):               0.00\n",
      "Time:                        23:41:42   Log-Likelihood:                -517.44\n",
      "No. Observations:                 433   AIC:                             1053.\n",
      "Df Residuals:                     424   BIC:                             1090.\n",
      "Df Model:                           8                                         \n",
      "Covariance Type:            nonrobust                                         \n",
      "===================================================================================================\n",
      "                                      coef    std err          t      P>|t|      [0.025      0.975]\n",
      "---------------------------------------------------------------------------------------------------\n",
      "const                              -0.7818      0.490     -1.595      0.112      -1.745       0.182\n",
      "S&P 500 Variance                   6.4e-06   1.89e-05      0.339      0.734   -3.07e-05    4.35e-05\n",
      "Ford Stock Price                   -0.0252      0.022     -1.163      0.246      -0.068       0.017\n",
      "GM Stock Price                      0.0155      0.012      1.341      0.181      -0.007       0.038\n",
      "Toyota Stock Price                  0.0076      0.004      2.138      0.033       0.001       0.015\n",
      "Nissan Stock Price                 -0.0031      0.022     -0.139      0.890      -0.047       0.041\n",
      "Sentiment                           0.4518      0.486      0.930      0.353      -0.503       1.407\n",
      "Previous Week Tesla Stock Price     0.9752      0.011     92.796      0.000       0.955       0.996\n",
      "Previous Sentiment                  0.6694      0.484      1.384      0.167      -0.281       1.620\n",
      "==============================================================================\n",
      "Omnibus:                       36.691   Durbin-Watson:                   1.624\n",
      "Prob(Omnibus):                  0.000   Jarque-Bera (JB):              151.562\n",
      "Skew:                           0.183   Prob(JB):                     1.23e-33\n",
      "Kurtosis:                       5.875   Cond. No.                     3.43e+04\n",
      "==============================================================================\n",
      "\n",
      "Notes:\n",
      "[1] Standard Errors assume that the covariance matrix of the errors is correctly specified.\n",
      "[2] The condition number is large, 3.43e+04. This might indicate that there are\n",
      "strong multicollinearity or other numerical problems.\n",
      "S&P 500 Variance                   1.089029\n",
      "Ford Stock Price                   1.997124\n",
      "GM Stock Price                     2.618283\n",
      "Toyota Stock Price                 3.835511\n",
      "Nissan Stock Price                 1.461776\n",
      "Sentiment                          1.427677\n",
      "Previous Week Tesla Stock Price    4.240650\n",
      "Previous Sentiment                 1.414137\n",
      "dtype: float64\n"
     ]
    }
   ],
   "source": [
    "#We see that the p-values are very high for some features, we should eliminate them.\n",
    "#We eliminate Tesla Wikipedia, since it has a very high p-value as well as a high VIF value.\n",
    "X_train = X_train.drop(columns=['Tesla Wikipedia Page Views'])\n",
    "X=X_train\n",
    "X2=sm.add_constant(X)\n",
    "lrm=sm.OLS(Y, X2).fit()\n",
    "print(lrm.summary())\n",
    "print(VIF(training_data, X_train.columns))"
   ]
  },
  {
   "cell_type": "code",
   "execution_count": 285,
   "metadata": {},
   "outputs": [
    {
     "name": "stdout",
     "output_type": "stream",
     "text": [
      "                            OLS Regression Results                            \n",
      "==============================================================================\n",
      "Dep. Variable:      Tesla Stock Price   R-squared:                       0.989\n",
      "Model:                            OLS   Adj. R-squared:                  0.989\n",
      "Method:                 Least Squares   F-statistic:                     5472.\n",
      "Date:                Wed, 01 May 2024   Prob (F-statistic):               0.00\n",
      "Time:                        23:41:42   Log-Likelihood:                -517.45\n",
      "No. Observations:                 433   AIC:                             1051.\n",
      "Df Residuals:                     425   BIC:                             1083.\n",
      "Df Model:                           7                                         \n",
      "Covariance Type:            nonrobust                                         \n",
      "===================================================================================================\n",
      "                                      coef    std err          t      P>|t|      [0.025      0.975]\n",
      "---------------------------------------------------------------------------------------------------\n",
      "const                              -0.8329      0.324     -2.571      0.010      -1.470      -0.196\n",
      "S&P 500 Variance                 6.754e-06   1.87e-05      0.362      0.718   -2.99e-05    4.34e-05\n",
      "Ford Stock Price                   -0.0266      0.019     -1.418      0.157      -0.064       0.010\n",
      "GM Stock Price                      0.0159      0.011      1.406      0.160      -0.006       0.038\n",
      "Toyota Stock Price                  0.0076      0.004      2.137      0.033       0.001       0.015\n",
      "Sentiment                           0.4617      0.480      0.962      0.337      -0.482       1.405\n",
      "Previous Week Tesla Stock Price     0.9751      0.010     93.024      0.000       0.955       0.996\n",
      "Previous Sentiment                  0.6799      0.477      1.424      0.155      -0.258       1.618\n",
      "==============================================================================\n",
      "Omnibus:                       36.761   Durbin-Watson:                   1.624\n",
      "Prob(Omnibus):                  0.000   Jarque-Bera (JB):              151.506\n",
      "Skew:                           0.186   Prob(JB):                     1.26e-33\n",
      "Kurtosis:                       5.874   Cond. No.                     3.43e+04\n",
      "==============================================================================\n",
      "\n",
      "Notes:\n",
      "[1] Standard Errors assume that the covariance matrix of the errors is correctly specified.\n",
      "[2] The condition number is large, 3.43e+04. This might indicate that there are\n",
      "strong multicollinearity or other numerical problems.\n",
      "S&P 500 Variance                   1.069160\n",
      "Ford Stock Price                   1.509187\n",
      "GM Stock Price                     2.495144\n",
      "Toyota Stock Price                 3.831309\n",
      "Sentiment                          1.396708\n",
      "Previous Week Tesla Stock Price    4.229031\n",
      "Previous Sentiment                 1.379821\n",
      "dtype: float64\n"
     ]
    }
   ],
   "source": [
    "#Now we eliminate Nissan stock prices, since it has a very high p-value\n",
    "X_train = X_train.drop(columns=['Nissan Stock Price'])\n",
    "X=X_train\n",
    "X2=sm.add_constant(X)\n",
    "lrm=sm.OLS(Y, X2).fit()\n",
    "print(lrm.summary())\n",
    "print(VIF(training_data, X_train.columns))"
   ]
  },
  {
   "cell_type": "code",
   "execution_count": 286,
   "metadata": {},
   "outputs": [
    {
     "name": "stdout",
     "output_type": "stream",
     "text": [
      "                            OLS Regression Results                            \n",
      "==============================================================================\n",
      "Dep. Variable:      Tesla Stock Price   R-squared:                       0.989\n",
      "Model:                            OLS   Adj. R-squared:                  0.989\n",
      "Method:                 Least Squares   F-statistic:                     6397.\n",
      "Date:                Wed, 01 May 2024   Prob (F-statistic):               0.00\n",
      "Time:                        23:41:43   Log-Likelihood:                -517.52\n",
      "No. Observations:                 433   AIC:                             1049.\n",
      "Df Residuals:                     426   BIC:                             1078.\n",
      "Df Model:                           6                                         \n",
      "Covariance Type:            nonrobust                                         \n",
      "===================================================================================================\n",
      "                                      coef    std err          t      P>|t|      [0.025      0.975]\n",
      "---------------------------------------------------------------------------------------------------\n",
      "const                              -0.8183      0.321     -2.548      0.011      -1.449      -0.187\n",
      "Ford Stock Price                   -0.0281      0.018     -1.530      0.127      -0.064       0.008\n",
      "GM Stock Price                      0.0163      0.011      1.455      0.146      -0.006       0.038\n",
      "Toyota Stock Price                  0.0075      0.004      2.133      0.034       0.001       0.014\n",
      "Sentiment                           0.4534      0.479      0.947      0.344      -0.488       1.395\n",
      "Previous Week Tesla Stock Price     0.9750      0.010     93.132      0.000       0.954       0.996\n",
      "Previous Sentiment                  0.6860      0.476      1.440      0.151      -0.251       1.622\n",
      "==============================================================================\n",
      "Omnibus:                       37.035   Durbin-Watson:                   1.625\n",
      "Prob(Omnibus):                  0.000   Jarque-Bera (JB):              151.619\n",
      "Skew:                           0.197   Prob(JB):                     1.19e-33\n",
      "Kurtosis:                       5.872   Cond. No.                     1.71e+03\n",
      "==============================================================================\n",
      "\n",
      "Notes:\n",
      "[1] Standard Errors assume that the covariance matrix of the errors is correctly specified.\n",
      "[2] The condition number is large, 1.71e+03. This might indicate that there are\n",
      "strong multicollinearity or other numerical problems.\n",
      "Ford Stock Price                   1.442342\n",
      "GM Stock Price                     2.466487\n",
      "Toyota Stock Price                 3.829768\n",
      "Sentiment                          1.393519\n",
      "Previous Week Tesla Stock Price    4.227146\n",
      "Previous Sentiment                 1.378095\n",
      "dtype: float64\n"
     ]
    }
   ],
   "source": [
    "#Now we eliminate  SP500 Variance , since it has a very high p-value\n",
    "X_train = X_train.drop(columns=['S&P 500 Variance'])\n",
    "X=X_train\n",
    "X2=sm.add_constant(X)\n",
    "lrm=sm.OLS(Y, X2).fit()\n",
    "print(lrm.summary())\n",
    "print(VIF(training_data, X_train.columns))"
   ]
  },
  {
   "cell_type": "code",
   "execution_count": 287,
   "metadata": {},
   "outputs": [
    {
     "name": "stdout",
     "output_type": "stream",
     "text": [
      "                            OLS Regression Results                            \n",
      "==============================================================================\n",
      "Dep. Variable:      Tesla Stock Price   R-squared:                       0.989\n",
      "Model:                            OLS   Adj. R-squared:                  0.989\n",
      "Method:                 Least Squares   F-statistic:                     7679.\n",
      "Date:                Wed, 01 May 2024   Prob (F-statistic):               0.00\n",
      "Time:                        23:41:43   Log-Likelihood:                -517.98\n",
      "No. Observations:                 433   AIC:                             1048.\n",
      "Df Residuals:                     427   BIC:                             1072.\n",
      "Df Model:                           5                                         \n",
      "Covariance Type:            nonrobust                                         \n",
      "===================================================================================================\n",
      "                                      coef    std err          t      P>|t|      [0.025      0.975]\n",
      "---------------------------------------------------------------------------------------------------\n",
      "const                              -0.8011      0.321     -2.499      0.013      -1.431      -0.171\n",
      "Ford Stock Price                   -0.0265      0.018     -1.452      0.147      -0.062       0.009\n",
      "GM Stock Price                      0.0158      0.011      1.408      0.160      -0.006       0.038\n",
      "Toyota Stock Price                  0.0080      0.004      2.272      0.024       0.001       0.015\n",
      "Previous Week Tesla Stock Price     0.9733      0.010     94.410      0.000       0.953       0.994\n",
      "Previous Sentiment                  0.8562      0.441      1.940      0.053      -0.011       1.723\n",
      "==============================================================================\n",
      "Omnibus:                       37.212   Durbin-Watson:                   1.626\n",
      "Prob(Omnibus):                  0.000   Jarque-Bera (JB):              151.895\n",
      "Skew:                           0.202   Prob(JB):                     1.04e-33\n",
      "Kurtosis:                       5.873   Cond. No.                     1.35e+03\n",
      "==============================================================================\n",
      "\n",
      "Notes:\n",
      "[1] Standard Errors assume that the covariance matrix of the errors is correctly specified.\n",
      "[2] The condition number is large, 1.35e+03. This might indicate that there are\n",
      "strong multicollinearity or other numerical problems.\n",
      "Ford Stock Price                   1.431017\n",
      "GM Stock Price                     2.460069\n",
      "Toyota Stock Price                 3.767922\n",
      "Previous Week Tesla Stock Price    4.099936\n",
      "Previous Sentiment                 1.181936\n",
      "dtype: float64\n"
     ]
    }
   ],
   "source": [
    "#Now we eliminate Sentiment scores, since it has a very high p-value\n",
    "X_train = X_train.drop(columns=['Sentiment'])\n",
    "X=X_train\n",
    "X2=sm.add_constant(X)\n",
    "lrm=sm.OLS(Y, X2).fit()\n",
    "print(lrm.summary())\n",
    "print(VIF(training_data, X_train.columns))"
   ]
  },
  {
   "cell_type": "code",
   "execution_count": 288,
   "metadata": {},
   "outputs": [
    {
     "name": "stdout",
     "output_type": "stream",
     "text": [
      "                            OLS Regression Results                            \n",
      "==============================================================================\n",
      "Dep. Variable:      Tesla Stock Price   R-squared:                       0.989\n",
      "Model:                            OLS   Adj. R-squared:                  0.989\n",
      "Method:                 Least Squares   F-statistic:                     9576.\n",
      "Date:                Wed, 01 May 2024   Prob (F-statistic):               0.00\n",
      "Time:                        23:41:43   Log-Likelihood:                -518.98\n",
      "No. Observations:                 433   AIC:                             1048.\n",
      "Df Residuals:                     428   BIC:                             1068.\n",
      "Df Model:                           4                                         \n",
      "Covariance Type:            nonrobust                                         \n",
      "===================================================================================================\n",
      "                                      coef    std err          t      P>|t|      [0.025      0.975]\n",
      "---------------------------------------------------------------------------------------------------\n",
      "const                              -0.5922      0.284     -2.082      0.038      -1.151      -0.033\n",
      "Ford Stock Price                   -0.0184      0.017     -1.059      0.290      -0.052       0.016\n",
      "Toyota Stock Price                  0.0095      0.003      2.851      0.005       0.003       0.016\n",
      "Previous Week Tesla Stock Price     0.9777      0.010     99.311      0.000       0.958       0.997\n",
      "Previous Sentiment                  0.7831      0.439      1.785      0.075      -0.079       1.645\n",
      "==============================================================================\n",
      "Omnibus:                       37.368   Durbin-Watson:                   1.630\n",
      "Prob(Omnibus):                  0.000   Jarque-Bera (JB):              154.889\n",
      "Skew:                           0.196   Prob(JB):                     2.32e-34\n",
      "Kurtosis:                       5.904   Cond. No.                     1.28e+03\n",
      "==============================================================================\n",
      "\n",
      "Notes:\n",
      "[1] Standard Errors assume that the covariance matrix of the errors is correctly specified.\n",
      "[2] The condition number is large, 1.28e+03. This might indicate that there are\n",
      "strong multicollinearity or other numerical problems.\n",
      "Ford Stock Price                   1.287544\n",
      "Toyota Stock Price                 3.400480\n",
      "Previous Week Tesla Stock Price    3.729960\n",
      "Previous Sentiment                 1.165620\n",
      "dtype: float64\n"
     ]
    }
   ],
   "source": [
    "#Now we eliminate GM stock prices, since it has a very high p-value\n",
    "X_train = X_train.drop(columns=['GM Stock Price'])\n",
    "X=X_train\n",
    "X2=sm.add_constant(X)\n",
    "lrm=sm.OLS(Y, X2).fit()\n",
    "print(lrm.summary())\n",
    "print(VIF(training_data, X_train.columns))"
   ]
  },
  {
   "cell_type": "code",
   "execution_count": 289,
   "metadata": {
    "scrolled": true
   },
   "outputs": [
    {
     "name": "stdout",
     "output_type": "stream",
     "text": [
      "                            OLS Regression Results                            \n",
      "==============================================================================\n",
      "Dep. Variable:      Tesla Stock Price   R-squared:                       0.989\n",
      "Model:                            OLS   Adj. R-squared:                  0.989\n",
      "Method:                 Least Squares   F-statistic:                 1.276e+04\n",
      "Date:                Wed, 01 May 2024   Prob (F-statistic):               0.00\n",
      "Time:                        23:41:44   Log-Likelihood:                -519.55\n",
      "No. Observations:                 433   AIC:                             1047.\n",
      "Df Residuals:                     429   BIC:                             1063.\n",
      "Df Model:                           3                                         \n",
      "Covariance Type:            nonrobust                                         \n",
      "===================================================================================================\n",
      "                                      coef    std err          t      P>|t|      [0.025      0.975]\n",
      "---------------------------------------------------------------------------------------------------\n",
      "const                              -0.7184      0.258     -2.781      0.006      -1.226      -0.211\n",
      "Toyota Stock Price                  0.0081      0.003      2.647      0.008       0.002       0.014\n",
      "Previous Week Tesla Stock Price     0.9819      0.009    109.210      0.000       0.964       1.000\n",
      "Previous Sentiment                  0.7318      0.436      1.678      0.094      -0.125       1.589\n",
      "==============================================================================\n",
      "Omnibus:                       38.749   Durbin-Watson:                   1.629\n",
      "Prob(Omnibus):                  0.000   Jarque-Bera (JB):              161.474\n",
      "Skew:                           0.221   Prob(JB):                     8.64e-36\n",
      "Kurtosis:                       5.959   Cond. No.                     1.27e+03\n",
      "==============================================================================\n",
      "\n",
      "Notes:\n",
      "[1] Standard Errors assume that the covariance matrix of the errors is correctly specified.\n",
      "[2] The condition number is large, 1.27e+03. This might indicate that there are\n",
      "strong multicollinearity or other numerical problems.\n",
      "Toyota Stock Price                 2.872440\n",
      "Previous Week Tesla Stock Price    3.110435\n",
      "Previous Sentiment                 1.151407\n",
      "dtype: float64\n"
     ]
    }
   ],
   "source": [
    "#Now we eliminate Ford stock prices, since it has a very high p-value\n",
    "X_train = X_train.drop(columns=['Ford Stock Price'])\n",
    "X=X_train\n",
    "X2=sm.add_constant(X)\n",
    "lrm=sm.OLS(Y, X2).fit()\n",
    "print(lrm.summary())\n",
    "print(VIF(training_data, X_train.columns))"
   ]
  },
  {
   "cell_type": "code",
   "execution_count": 290,
   "metadata": {},
   "outputs": [
    {
     "name": "stdout",
     "output_type": "stream",
     "text": [
      "   const  Toyota Stock Price  Previous Week Tesla Stock Price  \\\n",
      "1    1.0          141.020000                        33.525466   \n",
      "2    1.0          141.806000                        35.679167   \n",
      "3    1.0          141.556000                        38.820533   \n",
      "4    1.0          141.413998                        51.983867   \n",
      "5    1.0          138.842499                        52.226400   \n",
      "\n",
      "   Previous Sentiment  \n",
      "1            0.170538  \n",
      "2            0.092409  \n",
      "3            0.134267  \n",
      "4            0.231126  \n",
      "5            0.205790  \n",
      "R2 Score: 0.9725628720968355\n",
      "OSR2 Score: 0.992262564877033\n",
      "Mean Absolute Error: 10.103249325459068\n",
      "Mean Absolute Error Percentage: 0.07147073729254058\n"
     ]
    },
    {
     "data": {
      "image/png": "[encoded data removed]",
      "text/plain": [
       "<Figure size 640x480 with 1 Axes>"
      ]
     },
     "metadata": {},
     "output_type": "display_data"
    }
   ],
   "source": [
    "from sklearn.metrics import r2_score\n",
    "\n",
    "X_test = testing_data.drop(columns=['Tesla Stock Price','S&P 500 Variance', 'Tesla Wikipedia Page Views','Nissan Stock Price','Sentiment','Ford Stock Price','GM Stock Price'])\n",
    "X_test=sm.add_constant(X_test)\n",
    "print(X_test.head())\n",
    "y_pred = lrm.predict(X_test)\n",
    "\n",
    "# Assuming y_test and y_pred are the actual and predicted values, respectively\n",
    "r2 = r2_score(y_test, y_pred)\n",
    "print(\"R2 Score:\", r2)\n",
    "\n",
    "osr2=OSR2(lrm, y_train, X_test, y_test)\n",
    "print(\"OSR2 Score:\", osr2)\n",
    "\n",
    "mean_absolute_error = np.mean(np.abs(y_test - y_pred))\n",
    "mean_absolute_error_percentage = mean_absolute_error / np.mean(y_test)\n",
    "print(\"Mean Absolute Error:\", mean_absolute_error)\n",
    "print(\"Mean Absolute Error Percentage:\", mean_absolute_error_percentage)\n",
    "\n",
    "plt.plot(y_test)\n",
    "plt.plot(y_pred)\n",
    "plt.show()"
   ]
  },
  {
   "cell_type": "markdown",
   "metadata": {},
   "source": [
    "## Load Data - Train & Test split with time benchmark"
   ]
  },
  {
   "cell_type": "markdown",
   "metadata": {},
   "source": [
    "#### Random split is needed for tree-based models since the range of possible stock price values changes over time"
   ]
  },
  {
   "cell_type": "code",
   "execution_count": 291,
   "metadata": {},
   "outputs": [],
   "source": [
    "data = pd.read_csv(\"../data.csv\")\n",
    "train_data, test_data = train_test_split(data)\n",
    "test_data = test_data.drop(columns=['since', 'until','Unnamed: 0'])\n",
    "train_data = train_data.drop(columns=['since', 'until','Unnamed: 0'])\n",
    "\n",
    "train_data['Previous Sentiment'] = train_data['Sentiment'].shift(1)\n",
    "train_data = train_data[1:]\n",
    "test_data['Previous Sentiment'] = test_data['Sentiment'].shift(1)\n",
    "test_data = test_data[1:]"
   ]
  },
  {
   "cell_type": "code",
   "execution_count": 292,
   "metadata": {},
   "outputs": [],
   "source": [
    "y_train = train_data['Tesla Stock Price']\n",
    "X_train = train_data.drop(columns=['Tesla Stock Price','S&P 500 Variance', 'Tesla Wikipedia Page Views','Nissan Stock Price','Sentiment','Ford Stock Price','GM Stock Price'])\n",
    "\n",
    "y_test = test_data['Tesla Stock Price']\n",
    "X_test = test_data.drop(columns=['Tesla Stock Price','S&P 500 Variance', 'Tesla Wikipedia Page Views','Nissan Stock Price','Sentiment','Ford Stock Price','GM Stock Price'])"
   ]
  },
  {
   "cell_type": "markdown",
   "metadata": {
    "id": "G9AOg1RONIbS"
   },
   "source": [
    "## CART"
   ]
  },
  {
   "cell_type": "code",
   "execution_count": 293,
   "metadata": {
    "id": "Goknz0ulNIbT",
    "outputId": "6e86fc44-189a-4019-e064-eec29d8a1835"
   },
   "outputs": [],
   "source": [
    "grid_values = {'ccp_alpha': np.linspace(0, 0.001, 51)}\n",
    "\n",
    "dtr = DecisionTreeRegressor(min_samples_leaf=5, min_samples_split=20, random_state=88)\n",
    "cv = KFold(n_splits=5,random_state=1,shuffle=True) \n",
    "dtr_cv = GridSearchCV(dtr, param_grid=grid_values, scoring='r2', cv=cv, verbose=0)\n",
    "dtr_cv.fit(X_train, y_train)\n",
    "test_pred_cart, train_pred_cart = dtr_cv.predict(X_test), dtr_cv.predict(X_train)"
   ]
  },
  {
   "cell_type": "markdown",
   "metadata": {
    "id": "uGoe1rZONIbU"
   },
   "source": [
    "## RANDOM FORESTS"
   ]
  },
  {
   "cell_type": "code",
   "execution_count": 296,
   "metadata": {
    "id": "ox5Kl5kBNIbV",
    "outputId": "cdc153aa-8e26-421c-91ae-c882e027cb1a"
   },
   "outputs": [
    {
     "name": "stdout",
     "output_type": "stream",
     "text": [
      "Fitting 5 folds for each of 5 candidates, totalling 25 fits\n",
      "[CV] END max_features=1, min_samples_leaf=5, n_estimators=500, random_state=88; total time=   0.6s\n",
      "[CV] END max_features=1, min_samples_leaf=5, n_estimators=500, random_state=88; total time=   0.6s\n",
      "[CV] END max_features=1, min_samples_leaf=5, n_estimators=500, random_state=88; total time=   0.6s\n",
      "[CV] END max_features=1, min_samples_leaf=5, n_estimators=500, random_state=88; total time=   0.6s\n",
      "[CV] END max_features=1, min_samples_leaf=5, n_estimators=500, random_state=88; total time=   0.6s\n",
      "[CV] END max_features=2, min_samples_leaf=5, n_estimators=500, random_state=88; total time=   0.6s\n",
      "[CV] END max_features=2, min_samples_leaf=5, n_estimators=500, random_state=88; total time=   0.6s\n",
      "[CV] END max_features=2, min_samples_leaf=5, n_estimators=500, random_state=88; total time=   0.6s\n",
      "[CV] END max_features=2, min_samples_leaf=5, n_estimators=500, random_state=88; total time=   0.6s\n",
      "[CV] END max_features=2, min_samples_leaf=5, n_estimators=500, random_state=88; total time=   0.6s\n",
      "[CV] END max_features=3, min_samples_leaf=5, n_estimators=500, random_state=88; total time=   0.7s\n",
      "[CV] END max_features=3, min_samples_leaf=5, n_estimators=500, random_state=88; total time=   0.7s\n",
      "[CV] END max_features=3, min_samples_leaf=5, n_estimators=500, random_state=88; total time=   0.7s\n",
      "[CV] END max_features=3, min_samples_leaf=5, n_estimators=500, random_state=88; total time=   0.7s\n",
      "[CV] END max_features=3, min_samples_leaf=5, n_estimators=500, random_state=88; total time=   0.7s\n",
      "[CV] END max_features=4, min_samples_leaf=5, n_estimators=500, random_state=88; total time=   0.7s\n",
      "[CV] END max_features=4, min_samples_leaf=5, n_estimators=500, random_state=88; total time=   0.7s\n",
      "[CV] END max_features=4, min_samples_leaf=5, n_estimators=500, random_state=88; total time=   0.7s\n",
      "[CV] END max_features=4, min_samples_leaf=5, n_estimators=500, random_state=88; total time=   0.7s\n",
      "[CV] END max_features=4, min_samples_leaf=5, n_estimators=500, random_state=88; total time=   0.7s\n",
      "[CV] END max_features=5, min_samples_leaf=5, n_estimators=500, random_state=88; total time=   0.7s\n",
      "[CV] END max_features=5, min_samples_leaf=5, n_estimators=500, random_state=88; total time=   0.7s\n",
      "[CV] END max_features=5, min_samples_leaf=5, n_estimators=500, random_state=88; total time=   0.7s\n",
      "[CV] END max_features=5, min_samples_leaf=5, n_estimators=500, random_state=88; total time=   0.7s\n",
      "[CV] END max_features=5, min_samples_leaf=5, n_estimators=500, random_state=88; total time=   0.7s\n"
     ]
    }
   ],
   "source": [
    "grid_values = {'max_features': np.linspace(1,5,5, dtype='int32'),\n",
    "               'min_samples_leaf': [5],\n",
    "               'n_estimators': [500],\n",
    "               'random_state': [88]} \n",
    "\n",
    "rf2 = RandomForestRegressor() \n",
    "cv = KFold(n_splits=5,random_state=333,shuffle=True) \n",
    "rf_cv = GridSearchCV(rf2, param_grid=grid_values, scoring='r2', cv=cv,verbose=2)\n",
    "rf_cv.fit(X_train, y_train)\n",
    "test_pred_rf, train_pred_rf = rf_cv.predict(X_test), rf_cv.predict(X_train)"
   ]
  },
  {
   "cell_type": "markdown",
   "metadata": {
    "id": "4QRyHjU8NIbW"
   },
   "source": [
    "## GRADIENT BOOSTED TREES"
   ]
  },
  {
   "cell_type": "code",
   "execution_count": 298,
   "metadata": {},
   "outputs": [],
   "source": [
    "reg = GradientBoostingRegressor(random_state=99)\n",
    "reg.fit(X_train, y_train)\n",
    "test_pred_reg, train_pred_reg = reg.predict(X_test), reg.predict(X_train)"
   ]
  },
  {
   "cell_type": "markdown",
   "metadata": {},
   "source": [
    "## Ensemble Model Blending"
   ]
  },
  {
   "cell_type": "code",
   "execution_count": 305,
   "metadata": {},
   "outputs": [],
   "source": [
    "train = pd.DataFrame({'Tesla_Stock_Price': y_train, 'val_pred_cart': train_pred_cart, 'val_pred_rf': train_pred_rf, 'val_pred_reg': train_pred_reg})\n",
    "test = pd.DataFrame({'Tesla_Stock_Price': y_test, 'val_pred_cart': test_pred_cart, 'val_pred_rf': test_pred_rf, 'val_pred_reg': test_pred_reg})\n",
    "ensemble_model = smf.ols(formula='Tesla_Stock_Price ~ val_pred_cart+val_pred_reg+val_pred_rf -1', data=train).fit()"
   ]
  },
  {
   "cell_type": "markdown",
   "metadata": {},
   "source": [
    "## Model Comparison"
   ]
  },
  {
   "cell_type": "code",
   "execution_count": 306,
   "metadata": {},
   "outputs": [
    {
     "data": {
      "text/html": [
       "<div>\n",
       "<style scoped>\n",
       "    .dataframe tbody tr th:only-of-type {\n",
       "        vertical-align: middle;\n",
       "    }\n",
       "\n",
       "    .dataframe tbody tr th {\n",
       "        vertical-align: top;\n",
       "    }\n",
       "\n",
       "    .dataframe thead th {\n",
       "        text-align: right;\n",
       "    }\n",
       "</style>\n",
       "<table border=\"1\" class=\"dataframe\">\n",
       "  <thead>\n",
       "    <tr style=\"text-align: right;\">\n",
       "      <th></th>\n",
       "      <th>Linear Regressor</th>\n",
       "      <th>Decision Tree Regressor</th>\n",
       "      <th>Random Forest</th>\n",
       "      <th>Gradient Boosted Trees</th>\n",
       "      <th>Ensemble Model</th>\n",
       "    </tr>\n",
       "  </thead>\n",
       "  <tbody>\n",
       "    <tr>\n",
       "      <th>OSR2</th>\n",
       "      <td>0.993</td>\n",
       "      <td>0.951</td>\n",
       "      <td>0.985</td>\n",
       "      <td>0.989</td>\n",
       "      <td>0.989</td>\n",
       "    </tr>\n",
       "    <tr>\n",
       "      <th>Average Percent Test Error</th>\n",
       "      <td>0.0550</td>\n",
       "      <td>0.0729</td>\n",
       "      <td>0.0588</td>\n",
       "      <td>0.0622</td>\n",
       "      <td>0.0629</td>\n",
       "    </tr>\n",
       "  </tbody>\n",
       "</table>\n",
       "</div>"
      ],
      "text/plain": [
       "                           Linear Regressor Decision Tree Regressor  \\\n",
       "OSR2                                  0.993                   0.951   \n",
       "Average Percent Test Error           0.0550                  0.0729   \n",
       "\n",
       "                           Random Forest Gradient Boosted Trees Ensemble Model  \n",
       "OSR2                               0.985                  0.989          0.989  \n",
       "Average Percent Test Error        0.0588                 0.0622         0.0629  "
      ]
     },
     "execution_count": 306,
     "metadata": {},
     "output_type": "execute_result"
    }
   ],
   "source": [
    "comparison_data = {'Linear Regressor': ['{:.3f}'.format(OSR2(lrm, y_train, sm.add_constant(X_test), y_test)),\n",
    "                                               '{:.4f}'.format(avg_error(lrm.predict(sm.add_constant(X_test)), y_test))],\n",
    "                    'Decision Tree Regressor': ['{:.3f}'.format(OSR2(dtr_cv, y_train, X_test, y_test)),\n",
    "                                               '{:.4f}'.format(avg_error(dtr_cv.predict(X_test), y_test))],\n",
    "                   'Random Forest': ['{:.3f}'.format(OSR2(rf_cv, y_train, X_test, y_test)),\n",
    "                                     '{:.4f}'.format(avg_error(rf_cv.predict(X_test), y_test))], \n",
    "                   'Gradient Boosted Trees': ['{:.3f}'.format(OSR2(reg, y_train, X_test, y_test)),\n",
    "                                              '{:.4f}'.format(avg_error(reg.predict(X_test), y_test))],\n",
    "                  'Ensemble Model': ['{:.3f}'.format(OSR2(ensemble_model, y_train, test, y_test)),\n",
    "                                              '{:.4f}'.format(avg_error(ensemble_model.predict(test), y_test))]}\n",
    "\n",
    "comparison_table = pd.DataFrame(data=comparison_data, index=['OSR2', 'Average Percent Test Error'])\n",
    "comparison_table"
   ]
  }
 ],
 "metadata": {
  "colab": {
   "provenance": []
  },
  "kernelspec": {
   "display_name": "Python 3 (ipykernel)",
   "language": "python",
   "name": "python3"
  },
  "language_info": {
   "codemirror_mode": {
    "name": "ipython",
    "version": 3
   },
   "file_extension": ".py",
   "mimetype": "text/x-python",
   "name": "python",
   "nbconvert_exporter": "python",
   "pygments_lexer": "ipython3",
   "version": "3.9.13"
  }
 },
 "nbformat": 4,
 "nbformat_minor": 1
}
