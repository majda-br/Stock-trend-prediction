{
 "cells": [
  {
   "cell_type": "markdown",
   "metadata": {
    "id": "yi61g2KeNIbP"
   },
   "source": [
    "# Project Models - CART, Random Forest, Boosting"
   ]
  },
  {
   "cell_type": "code",
   "execution_count": 96,
   "metadata": {
    "id": "DtroNHr2NIbQ"
   },
   "outputs": [],
   "source": [
    "import numpy as np\n",
    "import pandas as pd\n",
    "import matplotlib.pyplot as plt\n",
    "import time\n",
    "\n",
    "from sklearn.model_selection import train_test_split, GridSearchCV, KFold\n",
    "from sklearn.tree import DecisionTreeRegressor, DecisionTreeClassifier\n",
    "from sklearn.ensemble import RandomForestRegressor, GradientBoostingRegressor, RandomForestClassifier\n",
    "from sklearn.linear_model import LinearRegression\n",
    "from scipy import stats\n",
    "from scipy.stats import pearsonr\n",
    "from sklearn.metrics import mean_squared_error, mean_absolute_error, confusion_matrix, roc_curve, auc\n",
    "from sklearn.utils import resample\n",
    "from sklearn import datasets, linear_model\n",
    "import statsmodels.api as sm\n",
    "import statsmodels.formula.api as smf\n",
    "from statsmodels.stats.outliers_influence import variance_inflation_factor "
   ]
  },
  {
   "cell_type": "code",
   "execution_count": 97,
   "metadata": {},
   "outputs": [],
   "source": [
    "# Helper functions\n",
    "\n",
    "def VIF(df, columns): \n",
    "    values=sm.add_constant(df[columns]).values\n",
    "    # the dataframe passed to VIF␣ ↪ must include the intercept term. We add it the same way we did before. \n",
    "    num_columns=len(columns)+1#we added intercept \n",
    "    vif=[variance_inflation_factor(values, i) for i in range(num_columns)] \n",
    "    return pd.Series(vif[1:], index=columns)\n",
    "def OSR2(model, y_train, x_test,y_test):\n",
    "    y_pred=model.predict(x_test) \n",
    "    SSE=np.sum((y_test-y_pred)**2) \n",
    "    SST=np.sum((y_test-np.mean(y_train))**2) \n",
    "    return 1-(SSE/SST)\n",
    "def avg_error(y_pred, y_test):\n",
    "    return np.average(abs((y_pred - y_test) / y_test))"
   ]
  },
  {
   "cell_type": "markdown",
   "metadata": {},
   "source": [
    "## Load Data - Train & Test split with time benchmark"
   ]
  },
  {
   "cell_type": "code",
   "execution_count": 141,
   "metadata": {
    "id": "zRnchKRNNIbR",
    "outputId": "e595325e-32a4-438b-fa5d-aca871ac3d40"
   },
   "outputs": [
    {
     "data": {
      "text/html": [
       "<div>\n",
       "<style scoped>\n",
       "    .dataframe tbody tr th:only-of-type {\n",
       "        vertical-align: middle;\n",
       "    }\n",
       "\n",
       "    .dataframe tbody tr th {\n",
       "        vertical-align: top;\n",
       "    }\n",
       "\n",
       "    .dataframe thead th {\n",
       "        text-align: right;\n",
       "    }\n",
       "</style>\n",
       "<table border=\"1\" class=\"dataframe\">\n",
       "  <thead>\n",
       "    <tr style=\"text-align: right;\">\n",
       "      <th></th>\n",
       "      <th>Tesla Stock Open Price</th>\n",
       "      <th>Tesla Stock Volume</th>\n",
       "      <th>Tesla Stock Adj Close Price</th>\n",
       "      <th>Tesla Stock High</th>\n",
       "      <th>Tesla Stock Low</th>\n",
       "      <th>S&amp;P 500 Variance</th>\n",
       "      <th>Ford Stock Price</th>\n",
       "      <th>GM Stock Price</th>\n",
       "      <th>Toyota Stock Price</th>\n",
       "      <th>Nissan Stock Price</th>\n",
       "      <th>Tesla Wikipedia Page Views</th>\n",
       "      <th>Sentiment</th>\n",
       "      <th>Previous Sentiment</th>\n",
       "      <th>Previous Week Tesla Stock Close Price</th>\n",
       "    </tr>\n",
       "  </thead>\n",
       "  <tbody>\n",
       "    <tr>\n",
       "      <th>2</th>\n",
       "      <td>1.401200</td>\n",
       "      <td>13199100.0</td>\n",
       "      <td>1.388933</td>\n",
       "      <td>1.424133</td>\n",
       "      <td>1.354267</td>\n",
       "      <td>435.732436</td>\n",
       "      <td>13.0400</td>\n",
       "      <td>34.189999</td>\n",
       "      <td>72.763998</td>\n",
       "      <td>15.460</td>\n",
       "      <td>1102.2</td>\n",
       "      <td>0.140323</td>\n",
       "      <td>0.089603</td>\n",
       "      <td>1.384800</td>\n",
       "    </tr>\n",
       "    <tr>\n",
       "      <th>3</th>\n",
       "      <td>1.256267</td>\n",
       "      <td>12649800.0</td>\n",
       "      <td>1.232667</td>\n",
       "      <td>1.264800</td>\n",
       "      <td>1.215600</td>\n",
       "      <td>380.825787</td>\n",
       "      <td>12.5600</td>\n",
       "      <td>34.189999</td>\n",
       "      <td>70.756001</td>\n",
       "      <td>15.062</td>\n",
       "      <td>898.0</td>\n",
       "      <td>0.040080</td>\n",
       "      <td>0.140323</td>\n",
       "      <td>1.388933</td>\n",
       "    </tr>\n",
       "    <tr>\n",
       "      <th>4</th>\n",
       "      <td>1.255867</td>\n",
       "      <td>7230300.0</td>\n",
       "      <td>1.261200</td>\n",
       "      <td>1.282000</td>\n",
       "      <td>1.233067</td>\n",
       "      <td>316.106150</td>\n",
       "      <td>12.0020</td>\n",
       "      <td>34.189999</td>\n",
       "      <td>70.690001</td>\n",
       "      <td>15.200</td>\n",
       "      <td>801.0</td>\n",
       "      <td>0.188023</td>\n",
       "      <td>0.040080</td>\n",
       "      <td>1.232667</td>\n",
       "    </tr>\n",
       "    <tr>\n",
       "      <th>5</th>\n",
       "      <td>1.303333</td>\n",
       "      <td>8167800.0</td>\n",
       "      <td>1.312267</td>\n",
       "      <td>1.333600</td>\n",
       "      <td>1.282933</td>\n",
       "      <td>591.345328</td>\n",
       "      <td>11.3280</td>\n",
       "      <td>34.189999</td>\n",
       "      <td>69.030000</td>\n",
       "      <td>14.992</td>\n",
       "      <td>766.2</td>\n",
       "      <td>0.168206</td>\n",
       "      <td>0.188023</td>\n",
       "      <td>1.261200</td>\n",
       "    </tr>\n",
       "    <tr>\n",
       "      <th>6</th>\n",
       "      <td>1.357833</td>\n",
       "      <td>6225000.0</td>\n",
       "      <td>1.385000</td>\n",
       "      <td>1.403833</td>\n",
       "      <td>1.351167</td>\n",
       "      <td>615.993610</td>\n",
       "      <td>11.7975</td>\n",
       "      <td>34.189999</td>\n",
       "      <td>69.000000</td>\n",
       "      <td>15.745</td>\n",
       "      <td>808.5</td>\n",
       "      <td>0.119400</td>\n",
       "      <td>0.168206</td>\n",
       "      <td>1.312267</td>\n",
       "    </tr>\n",
       "  </tbody>\n",
       "</table>\n",
       "</div>"
      ],
      "text/plain": [
       "   Tesla Stock Open Price  Tesla Stock Volume  Tesla Stock Adj Close Price  \\\n",
       "2                1.401200          13199100.0                     1.388933   \n",
       "3                1.256267          12649800.0                     1.232667   \n",
       "4                1.255867           7230300.0                     1.261200   \n",
       "5                1.303333           8167800.0                     1.312267   \n",
       "6                1.357833           6225000.0                     1.385000   \n",
       "\n",
       "   Tesla Stock High  Tesla Stock Low  S&P 500 Variance  Ford Stock Price  \\\n",
       "2          1.424133         1.354267        435.732436           13.0400   \n",
       "3          1.264800         1.215600        380.825787           12.5600   \n",
       "4          1.282000         1.233067        316.106150           12.0020   \n",
       "5          1.333600         1.282933        591.345328           11.3280   \n",
       "6          1.403833         1.351167        615.993610           11.7975   \n",
       "\n",
       "   GM Stock Price  Toyota Stock Price  Nissan Stock Price  \\\n",
       "2       34.189999           72.763998              15.460   \n",
       "3       34.189999           70.756001              15.062   \n",
       "4       34.189999           70.690001              15.200   \n",
       "5       34.189999           69.030000              14.992   \n",
       "6       34.189999           69.000000              15.745   \n",
       "\n",
       "   Tesla Wikipedia Page Views  Sentiment  Previous Sentiment  \\\n",
       "2                      1102.2   0.140323            0.089603   \n",
       "3                       898.0   0.040080            0.140323   \n",
       "4                       801.0   0.188023            0.040080   \n",
       "5                       766.2   0.168206            0.188023   \n",
       "6                       808.5   0.119400            0.168206   \n",
       "\n",
       "   Previous Week Tesla Stock Close Price  \n",
       "2                               1.384800  \n",
       "3                               1.388933  \n",
       "4                               1.232667  \n",
       "5                               1.261200  \n",
       "6                               1.312267  "
      ]
     },
     "execution_count": 141,
     "metadata": {},
     "output_type": "execute_result"
    }
   ],
   "source": [
    "training_data = pd.read_csv('../features_train.csv')\n",
    "training_data.drop(columns=['Unnamed: 0'], inplace=True)\n",
    "training_data = training_data.drop(0)\n",
    "training_data['Previous Sentiment'] = training_data['Sentiment'].shift(1)\n",
    "training_data = training_data[1:]\n",
    "\n",
    "testing_data = pd.read_csv('../features_test.csv')\n",
    "testing_data.drop(columns=['Unnamed: 0'], inplace=True)\n",
    "testing_data['Previous Sentiment'] = testing_data['Sentiment'].shift(1)\n",
    "\n",
    "testing_data = testing_data[1:]\n",
    "X_train = training_data.drop(columns=['Tesla Stock Close Price'])\n",
    "y_train = training_data['Tesla Stock Close Price']\n",
    "X_test = testing_data.drop(columns=['Tesla Stock Close Price'])\n",
    "y_test = testing_data['Tesla Stock Close Price']\n",
    "#use only the important features\n",
    "features =X_train.columns\n",
    "X_train.head()"
   ]
  },
  {
   "cell_type": "markdown",
   "metadata": {},
   "source": [
    "## Linear Regression & Feature Engineering"
   ]
  },
  {
   "cell_type": "code",
   "execution_count": 142,
   "metadata": {},
   "outputs": [
    {
     "name": "stdout",
     "output_type": "stream",
     "text": [
      "                               OLS Regression Results                              \n",
      "===================================================================================\n",
      "Dep. Variable:     Tesla Stock Close Price   R-squared:                       1.000\n",
      "Model:                                 OLS   Adj. R-squared:                  1.000\n",
      "Method:                      Least Squares   F-statistic:                 1.079e+20\n",
      "Date:                     Thu, 02 May 2024   Prob (F-statistic):               0.00\n",
      "Time:                             11:46:32   Log-Likelihood:                 7723.3\n",
      "No. Observations:                      431   AIC:                        -1.542e+04\n",
      "Df Residuals:                          416   BIC:                        -1.536e+04\n",
      "Df Model:                               14                                         \n",
      "Covariance Type:                 nonrobust                                         \n",
      "=========================================================================================================\n",
      "                                            coef    std err          t      P>|t|      [0.025      0.975]\n",
      "---------------------------------------------------------------------------------------------------------\n",
      "const                                  9.925e-14   2.55e-09   3.89e-05      1.000   -5.01e-09    5.01e-09\n",
      "Tesla Stock Open Price                 4.796e-14   3.51e-09   1.36e-05      1.000   -6.91e-09    6.91e-09\n",
      "Tesla Stock Volume                     3.918e-17   6.23e-18      6.285      0.000    2.69e-17    5.14e-17\n",
      "Tesla Stock Adj Close Price               1.0000   3.43e-09   2.92e+08      0.000       1.000       1.000\n",
      "Tesla Stock High                       4.619e-14   3.68e-09   1.25e-05      1.000   -7.24e-09    7.24e-09\n",
      "Tesla Stock Low                        3.073e-13   3.64e-09   8.44e-05      1.000   -7.15e-09    7.15e-09\n",
      "S&P 500 Variance                      -9.682e-17   1.81e-13     -0.001      1.000   -3.56e-13    3.56e-13\n",
      "Ford Stock Price                      -5.607e-15   1.15e-10  -4.87e-05      1.000   -2.26e-10    2.26e-10\n",
      "GM Stock Price                        -1.055e-15   6.12e-11  -1.72e-05      1.000    -1.2e-10     1.2e-10\n",
      "Toyota Stock Price                     1.561e-17   2.04e-11   7.67e-07      1.000      -4e-11       4e-11\n",
      "Nissan Stock Price                     1.735e-15   1.15e-10   1.51e-05      1.000   -2.26e-10    2.26e-10\n",
      "Tesla Wikipedia Page Views             5.909e-18    1.9e-13   3.11e-05      1.000   -3.74e-13    3.74e-13\n",
      "Sentiment                              2.665e-15   2.47e-09   1.08e-06      1.000   -4.85e-09    4.85e-09\n",
      "Previous Sentiment                     2.665e-15   2.47e-09   1.08e-06      1.000   -4.85e-09    4.85e-09\n",
      "Previous Week Tesla Stock Close Price -6.106e-16   2.97e-10  -2.05e-06      1.000   -5.84e-10    5.84e-10\n",
      "==============================================================================\n",
      "Omnibus:                       89.707   Durbin-Watson:                   0.194\n",
      "Prob(Omnibus):                  0.000   Jarque-Bera (JB):              161.440\n",
      "Skew:                          -1.183   Prob(JB):                     8.78e-36\n",
      "Kurtosis:                       4.841   Cond. No.                     3.32e+09\n",
      "==============================================================================\n",
      "\n",
      "Notes:\n",
      "[1] Standard Errors assume that the covariance matrix of the errors is correctly specified.\n",
      "[2] The condition number is large, 3.32e+09. This might indicate that there are\n",
      "strong multicollinearity or other numerical problems.\n",
      "Tesla Stock Open Price                   18624.002920\n",
      "Tesla Stock Volume                           3.772195\n",
      "Tesla Stock Adj Close Price              17738.592869\n",
      "Tesla Stock High                         21097.838139\n",
      "Tesla Stock Low                          19345.653437\n",
      "S&P 500 Variance                             1.452583\n",
      "Ford Stock Price                             2.228986\n",
      "GM Stock Price                               2.887534\n",
      "Toyota Stock Price                           4.921429\n",
      "Nissan Stock Price                           1.523839\n",
      "Tesla Wikipedia Page Views                   2.603870\n",
      "Sentiment                                    1.444684\n",
      "Previous Sentiment                           1.445891\n",
      "Previous Week Tesla Stock Close Price      132.639340\n",
      "dtype: float64\n"
     ]
    }
   ],
   "source": [
    "#Now we want to see how the model behaves. We train the linear regression.\n",
    "#We will mostly focus on the p-values, the VIF values, and R2.\n",
    "X=X_train\n",
    "Y=y_train\n",
    "X2 = sm.add_constant(X)\n",
    "lrm=sm.OLS(Y, X2).fit()\n",
    "print(lrm.summary())\n",
    "print(VIF(training_data, features))\n",
    "\n",
    "pd.set_option('display.max_colwidth', None) "
   ]
  },
  {
   "cell_type": "code",
   "execution_count": 143,
   "metadata": {},
   "outputs": [
    {
     "name": "stdout",
     "output_type": "stream",
     "text": [
      "                               OLS Regression Results                              \n",
      "===================================================================================\n",
      "Dep. Variable:     Tesla Stock Close Price   R-squared:                       0.989\n",
      "Model:                                 OLS   Adj. R-squared:                  0.989\n",
      "Method:                      Least Squares   F-statistic:                     3759.\n",
      "Date:                     Thu, 02 May 2024   Prob (F-statistic):               0.00\n",
      "Time:                             11:46:38   Log-Likelihood:                -515.49\n",
      "No. Observations:                      431   AIC:                             1053.\n",
      "Df Residuals:                          420   BIC:                             1098.\n",
      "Df Model:                               10                                         \n",
      "Covariance Type:                 nonrobust                                         \n",
      "=========================================================================================================\n",
      "                                            coef    std err          t      P>|t|      [0.025      0.975]\n",
      "---------------------------------------------------------------------------------------------------------\n",
      "const                                    -0.7734      0.507     -1.527      0.128      -1.769       0.222\n",
      "Tesla Stock Volume                     9.445e-10   9.05e-10      1.044      0.297   -8.34e-10    2.72e-09\n",
      "S&P 500 Variance                       6.608e-06   3.28e-05      0.201      0.841   -5.79e-05    7.11e-05\n",
      "Ford Stock Price                         -0.0227      0.023     -0.993      0.321      -0.068       0.022\n",
      "GM Stock Price                            0.0132      0.012      1.088      0.277      -0.011       0.037\n",
      "Toyota Stock Price                        0.0069      0.004      1.745      0.082      -0.001       0.015\n",
      "Nissan Stock Price                        0.0008      0.023      0.033      0.974      -0.044       0.045\n",
      "Tesla Wikipedia Page Views            -1.319e-05   3.78e-05     -0.349      0.727   -8.74e-05    6.11e-05\n",
      "Sentiment                                 0.4894      0.491      0.998      0.319      -0.475       1.454\n",
      "Previous Sentiment                        0.6506      0.491      1.325      0.186      -0.314       1.615\n",
      "Previous Week Tesla Stock Close Price     0.9759      0.011     88.529      0.000       0.954       0.998\n",
      "==============================================================================\n",
      "Omnibus:                       32.702   Durbin-Watson:                   1.624\n",
      "Prob(Omnibus):                  0.000   Jarque-Bera (JB):              134.970\n",
      "Skew:                           0.048   Prob(JB):                     4.92e-30\n",
      "Kurtosis:                       5.740   Cond. No.                     1.49e+09\n",
      "==============================================================================\n",
      "\n",
      "Notes:\n",
      "[1] Standard Errors assume that the covariance matrix of the errors is correctly specified.\n",
      "[2] The condition number is large, 1.49e+09. This might indicate that there are\n",
      "strong multicollinearity or other numerical problems.\n",
      "Tesla Stock Volume                       2.000454\n",
      "S&P 500 Variance                         1.201987\n",
      "Ford Stock Price                         2.213930\n",
      "GM Stock Price                           2.846517\n",
      "Toyota Stock Price                       4.606307\n",
      "Nissan Stock Price                       1.492372\n",
      "Tesla Wikipedia Page Views               2.587860\n",
      "Sentiment                                1.437270\n",
      "Previous Sentiment                       1.439137\n",
      "Previous Week Tesla Stock Close Price    4.589308\n",
      "dtype: float64\n"
     ]
    }
   ],
   "source": [
    "#We see that the p-values are very high for some features, we should eliminate them.\n",
    "#We eliminate Tesla's Financial Features which are very correlated with the Close Price we are trying to predict, since it has a very high p-value as well as a high VIF value.\n",
    "X_train = X_train.drop(columns=['Tesla Stock Open Price','Tesla Stock Adj Close Price','Tesla Stock High', 'Tesla Stock Low'])\n",
    "X=X_train\n",
    "X2=sm.add_constant(X)\n",
    "lrm=sm.OLS(Y, X2).fit()\n",
    "print(lrm.summary())\n",
    "print(VIF(training_data, X_train.columns))"
   ]
  },
  {
   "cell_type": "code",
   "execution_count": 144,
   "metadata": {},
   "outputs": [
    {
     "name": "stdout",
     "output_type": "stream",
     "text": [
      "                               OLS Regression Results                              \n",
      "===================================================================================\n",
      "Dep. Variable:     Tesla Stock Close Price   R-squared:                       0.989\n",
      "Model:                                 OLS   Adj. R-squared:                  0.989\n",
      "Method:                      Least Squares   F-statistic:                     4187.\n",
      "Date:                     Thu, 02 May 2024   Prob (F-statistic):               0.00\n",
      "Time:                             11:46:42   Log-Likelihood:                -515.49\n",
      "No. Observations:                      431   AIC:                             1051.\n",
      "Df Residuals:                          421   BIC:                             1092.\n",
      "Df Model:                                9                                         \n",
      "Covariance Type:                 nonrobust                                         \n",
      "=========================================================================================================\n",
      "                                            coef    std err          t      P>|t|      [0.025      0.975]\n",
      "---------------------------------------------------------------------------------------------------------\n",
      "const                                    -0.7611      0.346     -2.200      0.028      -1.441      -0.081\n",
      "Tesla Stock Volume                     9.396e-10   8.92e-10      1.054      0.293   -8.13e-10    2.69e-09\n",
      "S&P 500 Variance                       6.555e-06   3.28e-05      0.200      0.841   -5.78e-05    7.09e-05\n",
      "Ford Stock Price                         -0.0224      0.021     -1.090      0.277      -0.063       0.018\n",
      "GM Stock Price                            0.0131      0.012      1.097      0.273      -0.010       0.037\n",
      "Toyota Stock Price                        0.0069      0.004      1.749      0.081      -0.001       0.015\n",
      "Tesla Wikipedia Page Views            -1.304e-05   3.75e-05     -0.348      0.728   -8.67e-05    6.06e-05\n",
      "Sentiment                                 0.4868      0.484      1.006      0.315      -0.464       1.437\n",
      "Previous Sentiment                        0.6480      0.484      1.339      0.181      -0.303       1.599\n",
      "Previous Week Tesla Stock Close Price     0.9759      0.011     88.645      0.000       0.954       0.998\n",
      "==============================================================================\n",
      "Omnibus:                       32.709   Durbin-Watson:                   1.624\n",
      "Prob(Omnibus):                  0.000   Jarque-Bera (JB):              135.043\n",
      "Skew:                           0.047   Prob(JB):                     4.74e-30\n",
      "Kurtosis:                       5.741   Cond. No.                     1.48e+09\n",
      "==============================================================================\n",
      "\n",
      "Notes:\n",
      "[1] Standard Errors assume that the covariance matrix of the errors is correctly specified.\n",
      "[2] The condition number is large, 1.48e+09. This might indicate that there are\n",
      "strong multicollinearity or other numerical problems.\n",
      "Tesla Stock Volume                       1.947392\n",
      "S&P 500 Variance                         1.199182\n",
      "Ford Stock Price                         1.788081\n",
      "GM Stock Price                           2.778646\n",
      "Toyota Stock Price                       4.603469\n",
      "Tesla Wikipedia Page Views               2.551097\n",
      "Sentiment                                1.400257\n",
      "Previous Sentiment                       1.402002\n",
      "Previous Week Tesla Stock Close Price    4.588212\n",
      "dtype: float64\n"
     ]
    }
   ],
   "source": [
    "#Now we eliminate Nissan stock prices, since it has a very high p-value\n",
    "X_train = X_train.drop(columns=['Nissan Stock Price'])\n",
    "X=X_train\n",
    "X2=sm.add_constant(X)\n",
    "lrm=sm.OLS(Y, X2).fit()\n",
    "print(lrm.summary())\n",
    "print(VIF(training_data, X_train.columns))"
   ]
  },
  {
   "cell_type": "code",
   "execution_count": 145,
   "metadata": {},
   "outputs": [
    {
     "name": "stdout",
     "output_type": "stream",
     "text": [
      "                               OLS Regression Results                              \n",
      "===================================================================================\n",
      "Dep. Variable:     Tesla Stock Close Price   R-squared:                       0.989\n",
      "Model:                                 OLS   Adj. R-squared:                  0.989\n",
      "Method:                      Least Squares   F-statistic:                     4721.\n",
      "Date:                     Thu, 02 May 2024   Prob (F-statistic):               0.00\n",
      "Time:                             11:46:45   Log-Likelihood:                -515.51\n",
      "No. Observations:                      431   AIC:                             1049.\n",
      "Df Residuals:                          422   BIC:                             1086.\n",
      "Df Model:                                8                                         \n",
      "Covariance Type:                 nonrobust                                         \n",
      "=========================================================================================================\n",
      "                                            coef    std err          t      P>|t|      [0.025      0.975]\n",
      "---------------------------------------------------------------------------------------------------------\n",
      "const                                    -0.7486      0.340     -2.202      0.028      -1.417      -0.080\n",
      "Tesla Stock Volume                     9.458e-10    8.9e-10      1.062      0.289   -8.04e-10     2.7e-09\n",
      "Ford Stock Price                         -0.0235      0.020     -1.188      0.235      -0.062       0.015\n",
      "GM Stock Price                            0.0131      0.012      1.096      0.274      -0.010       0.037\n",
      "Toyota Stock Price                        0.0069      0.004      1.767      0.078      -0.001       0.015\n",
      "Tesla Wikipedia Page Views            -1.316e-05   3.74e-05     -0.352      0.725   -8.67e-05    6.04e-05\n",
      "Sentiment                                 0.4902      0.483      1.015      0.311      -0.459       1.439\n",
      "Previous Sentiment                        0.6521      0.483      1.350      0.178      -0.297       1.601\n",
      "Previous Week Tesla Stock Close Price     0.9760      0.011     88.958      0.000       0.954       0.998\n",
      "==============================================================================\n",
      "Omnibus:                       32.749   Durbin-Watson:                   1.625\n",
      "Prob(Omnibus):                  0.000   Jarque-Bera (JB):              134.846\n",
      "Skew:                           0.057   Prob(JB):                     5.23e-30\n",
      "Kurtosis:                       5.738   Cond. No.                     1.48e+09\n",
      "==============================================================================\n",
      "\n",
      "Notes:\n",
      "[1] Standard Errors assume that the covariance matrix of the errors is correctly specified.\n",
      "[2] The condition number is large, 1.48e+09. This might indicate that there are\n",
      "strong multicollinearity or other numerical problems.\n",
      "Tesla Stock Volume                       1.945036\n",
      "Ford Stock Price                         1.658710\n",
      "GM Stock Price                           2.778089\n",
      "Toyota Stock Price                       4.585023\n",
      "Tesla Wikipedia Page Views               2.550467\n",
      "Sentiment                                1.398512\n",
      "Previous Sentiment                       1.399460\n",
      "Previous Week Tesla Stock Close Price    4.567839\n",
      "dtype: float64\n"
     ]
    }
   ],
   "source": [
    "#Now we eliminate  SP500 Variance , since it has a very high p-value\n",
    "X_train = X_train.drop(columns=['S&P 500 Variance'])\n",
    "X=X_train\n",
    "X2=sm.add_constant(X)\n",
    "lrm=sm.OLS(Y, X2).fit()\n",
    "print(lrm.summary())\n",
    "print(VIF(training_data, X_train.columns))"
   ]
  },
  {
   "cell_type": "code",
   "execution_count": 146,
   "metadata": {},
   "outputs": [
    {
     "name": "stdout",
     "output_type": "stream",
     "text": [
      "                               OLS Regression Results                              \n",
      "===================================================================================\n",
      "Dep. Variable:     Tesla Stock Close Price   R-squared:                       0.989\n",
      "Model:                                 OLS   Adj. R-squared:                  0.989\n",
      "Method:                      Least Squares   F-statistic:                     5407.\n",
      "Date:                     Thu, 02 May 2024   Prob (F-statistic):               0.00\n",
      "Time:                             11:46:47   Log-Likelihood:                -515.58\n",
      "No. Observations:                      431   AIC:                             1047.\n",
      "Df Residuals:                          423   BIC:                             1080.\n",
      "Df Model:                                7                                         \n",
      "Covariance Type:                 nonrobust                                         \n",
      "=========================================================================================================\n",
      "                                            coef    std err          t      P>|t|      [0.025      0.975]\n",
      "---------------------------------------------------------------------------------------------------------\n",
      "const                                    -0.7284      0.335     -2.176      0.030      -1.386      -0.071\n",
      "Tesla Stock Volume                     8.331e-10    8.3e-10      1.004      0.316   -7.98e-10    2.46e-09\n",
      "Ford Stock Price                         -0.0259      0.019     -1.397      0.163      -0.062       0.011\n",
      "GM Stock Price                            0.0142      0.011      1.238      0.216      -0.008       0.037\n",
      "Toyota Stock Price                        0.0065      0.004      1.743      0.082      -0.001       0.014\n",
      "Sentiment                                 0.4845      0.482      1.005      0.315      -0.463       1.432\n",
      "Previous Sentiment                        0.6391      0.481      1.329      0.185      -0.306       1.585\n",
      "Previous Week Tesla Stock Close Price     0.9750      0.011     92.598      0.000       0.954       0.996\n",
      "==============================================================================\n",
      "Omnibus:                       32.749   Durbin-Watson:                   1.624\n",
      "Prob(Omnibus):                  0.000   Jarque-Bera (JB):              134.287\n",
      "Skew:                           0.065   Prob(JB):                     6.92e-30\n",
      "Kurtosis:                       5.731   Cond. No.                     1.48e+09\n",
      "==============================================================================\n",
      "\n",
      "Notes:\n",
      "[1] Standard Errors assume that the covariance matrix of the errors is correctly specified.\n",
      "[2] The condition number is large, 1.48e+09. This might indicate that there are\n",
      "strong multicollinearity or other numerical problems.\n",
      "Tesla Stock Volume                       1.693017\n",
      "Ford Stock Price                         1.461241\n",
      "GM Stock Price                           2.575548\n",
      "Toyota Stock Price                       4.178283\n",
      "Sentiment                                1.396930\n",
      "Previous Sentiment                       1.391243\n",
      "Previous Week Tesla Stock Close Price    4.215253\n",
      "dtype: float64\n"
     ]
    }
   ],
   "source": [
    "#Now we eliminate Tesla Wikipedia Page Views, since it has a very high p-value\n",
    "X_train = X_train.drop(columns=['Tesla Wikipedia Page Views'])\n",
    "X=X_train\n",
    "X2=sm.add_constant(X)\n",
    "lrm=sm.OLS(Y, X2).fit()\n",
    "print(lrm.summary())\n",
    "print(VIF(training_data, X_train.columns))"
   ]
  },
  {
   "cell_type": "code",
   "execution_count": 147,
   "metadata": {},
   "outputs": [
    {
     "name": "stdout",
     "output_type": "stream",
     "text": [
      "                               OLS Regression Results                              \n",
      "===================================================================================\n",
      "Dep. Variable:     Tesla Stock Close Price   R-squared:                       0.989\n",
      "Model:                                 OLS   Adj. R-squared:                  0.989\n",
      "Method:                      Least Squares   F-statistic:                     6307.\n",
      "Date:                     Thu, 02 May 2024   Prob (F-statistic):               0.00\n",
      "Time:                             11:46:49   Log-Likelihood:                -516.09\n",
      "No. Observations:                      431   AIC:                             1046.\n",
      "Df Residuals:                          424   BIC:                             1075.\n",
      "Df Model:                                6                                         \n",
      "Covariance Type:                 nonrobust                                         \n",
      "=========================================================================================================\n",
      "                                            coef    std err          t      P>|t|      [0.025      0.975]\n",
      "---------------------------------------------------------------------------------------------------------\n",
      "const                                    -0.8204      0.322     -2.548      0.011      -1.453      -0.188\n",
      "Ford Stock Price                         -0.0278      0.018     -1.512      0.131      -0.064       0.008\n",
      "GM Stock Price                            0.0158      0.011      1.395      0.164      -0.006       0.038\n",
      "Toyota Stock Price                        0.0076      0.004      2.142      0.033       0.001       0.015\n",
      "Sentiment                                 0.4640      0.482      0.964      0.336      -0.483       1.411\n",
      "Previous Sentiment                        0.6860      0.479      1.433      0.153      -0.255       1.627\n",
      "Previous Week Tesla Stock Close Price     0.9753      0.011     92.658      0.000       0.955       0.996\n",
      "==============================================================================\n",
      "Omnibus:                       36.592   Durbin-Watson:                   1.625\n",
      "Prob(Omnibus):                  0.000   Jarque-Bera (JB):              148.381\n",
      "Skew:                           0.196   Prob(JB):                     6.02e-33\n",
      "Kurtosis:                       5.848   Cond. No.                     1.71e+03\n",
      "==============================================================================\n",
      "\n",
      "Notes:\n",
      "[1] Standard Errors assume that the covariance matrix of the errors is correctly specified.\n",
      "[2] The condition number is large, 1.71e+03. This might indicate that there are\n",
      "strong multicollinearity or other numerical problems.\n",
      "Ford Stock Price                         1.444828\n",
      "GM Stock Price                           2.523609\n",
      "Toyota Stock Price                       3.803325\n",
      "Sentiment                                1.394437\n",
      "Previous Sentiment                       1.378139\n",
      "Previous Week Tesla Stock Close Price    4.212122\n",
      "dtype: float64\n"
     ]
    }
   ],
   "source": [
    "#Now we eliminate Volume, since it has a very high p-value\n",
    "X_train = X_train.drop(columns=['Tesla Stock Volume'])\n",
    "X=X_train\n",
    "X2=sm.add_constant(X)\n",
    "lrm=sm.OLS(Y, X2).fit()\n",
    "print(lrm.summary())\n",
    "print(VIF(training_data, X_train.columns))"
   ]
  },
  {
   "cell_type": "code",
   "execution_count": 148,
   "metadata": {
    "scrolled": true
   },
   "outputs": [
    {
     "name": "stdout",
     "output_type": "stream",
     "text": [
      "                               OLS Regression Results                              \n",
      "===================================================================================\n",
      "Dep. Variable:     Tesla Stock Close Price   R-squared:                       0.989\n",
      "Model:                                 OLS   Adj. R-squared:                  0.989\n",
      "Method:                      Least Squares   F-statistic:                     7570.\n",
      "Date:                     Thu, 02 May 2024   Prob (F-statistic):               0.00\n",
      "Time:                             11:46:54   Log-Likelihood:                -516.56\n",
      "No. Observations:                      431   AIC:                             1045.\n",
      "Df Residuals:                          425   BIC:                             1070.\n",
      "Df Model:                                5                                         \n",
      "Covariance Type:                 nonrobust                                         \n",
      "=========================================================================================================\n",
      "                                            coef    std err          t      P>|t|      [0.025      0.975]\n",
      "---------------------------------------------------------------------------------------------------------\n",
      "const                                    -0.8024      0.321     -2.497      0.013      -1.434      -0.171\n",
      "Ford Stock Price                         -0.0263      0.018     -1.436      0.152      -0.062       0.010\n",
      "GM Stock Price                            0.0154      0.011      1.357      0.175      -0.007       0.038\n",
      "Toyota Stock Price                        0.0080      0.004      2.275      0.023       0.001       0.015\n",
      "Previous Sentiment                        0.8597      0.443      1.938      0.053      -0.012       1.731\n",
      "Previous Week Tesla Stock Close Price     0.9735      0.010     93.995      0.000       0.953       0.994\n",
      "==============================================================================\n",
      "Omnibus:                       36.760   Durbin-Watson:                   1.627\n",
      "Prob(Omnibus):                  0.000   Jarque-Bera (JB):              148.561\n",
      "Skew:                           0.202   Prob(JB):                     5.50e-33\n",
      "Kurtosis:                       5.848   Cond. No.                     1.36e+03\n",
      "==============================================================================\n",
      "\n",
      "Notes:\n",
      "[1] Standard Errors assume that the covariance matrix of the errors is correctly specified.\n",
      "[2] The condition number is large, 1.36e+03. This might indicate that there are\n",
      "strong multicollinearity or other numerical problems.\n",
      "Ford Stock Price                         1.434545\n",
      "GM Stock Price                           2.519604\n",
      "Toyota Stock Price                       3.748299\n",
      "Previous Sentiment                       1.182733\n",
      "Previous Week Tesla Stock Close Price    4.078710\n",
      "dtype: float64\n"
     ]
    }
   ],
   "source": [
    "#Now we eliminate Sentiment scores, since it has a very high p-value\n",
    "X_train = X_train.drop(columns=['Sentiment'])\n",
    "X=X_train\n",
    "X2=sm.add_constant(X)\n",
    "lrm=sm.OLS(Y, X2).fit()\n",
    "print(lrm.summary())\n",
    "print(VIF(training_data, X_train.columns))"
   ]
  },
  {
   "cell_type": "code",
   "execution_count": 149,
   "metadata": {},
   "outputs": [
    {
     "name": "stdout",
     "output_type": "stream",
     "text": [
      "                               OLS Regression Results                              \n",
      "===================================================================================\n",
      "Dep. Variable:     Tesla Stock Close Price   R-squared:                       0.989\n",
      "Model:                                 OLS   Adj. R-squared:                  0.989\n",
      "Method:                      Least Squares   F-statistic:                     9443.\n",
      "Date:                     Thu, 02 May 2024   Prob (F-statistic):               0.00\n",
      "Time:                             11:46:56   Log-Likelihood:                -517.49\n",
      "No. Observations:                      431   AIC:                             1045.\n",
      "Df Residuals:                          426   BIC:                             1065.\n",
      "Df Model:                                4                                         \n",
      "Covariance Type:                 nonrobust                                         \n",
      "=========================================================================================================\n",
      "                                            coef    std err          t      P>|t|      [0.025      0.975]\n",
      "---------------------------------------------------------------------------------------------------------\n",
      "const                                    -0.6044      0.287     -2.109      0.036      -1.168      -0.041\n",
      "Ford Stock Price                         -0.0184      0.017     -1.056      0.291      -0.053       0.016\n",
      "Toyota Stock Price                        0.0096      0.003      2.863      0.004       0.003       0.016\n",
      "Previous Sentiment                        0.7947      0.441      1.801      0.072      -0.073       1.662\n",
      "Previous Week Tesla Stock Close Price     0.9778      0.010     99.085      0.000       0.958       0.997\n",
      "==============================================================================\n",
      "Omnibus:                       36.931   Durbin-Watson:                   1.631\n",
      "Prob(Omnibus):                  0.000   Jarque-Bera (JB):              151.574\n",
      "Skew:                           0.195   Prob(JB):                     1.22e-33\n",
      "Kurtosis:                       5.879   Cond. No.                     1.29e+03\n",
      "==============================================================================\n",
      "\n",
      "Notes:\n",
      "[1] Standard Errors assume that the covariance matrix of the errors is correctly specified.\n",
      "[2] The condition number is large, 1.29e+03. This might indicate that there are\n",
      "strong multicollinearity or other numerical problems.\n",
      "Ford Stock Price                         1.287819\n",
      "Toyota Stock Price                       3.358456\n",
      "Previous Sentiment                       1.168945\n",
      "Previous Week Tesla Stock Close Price    3.695664\n",
      "dtype: float64\n"
     ]
    }
   ],
   "source": [
    "#Now we eliminate GM stock prices, since it has a very high p-value\n",
    "X_train = X_train.drop(columns=['GM Stock Price'])\n",
    "X=X_train\n",
    "X2=sm.add_constant(X)\n",
    "lrm=sm.OLS(Y, X2).fit()\n",
    "print(lrm.summary())\n",
    "print(VIF(training_data, X_train.columns))"
   ]
  },
  {
   "cell_type": "code",
   "execution_count": 150,
   "metadata": {},
   "outputs": [
    {
     "name": "stdout",
     "output_type": "stream",
     "text": [
      "                               OLS Regression Results                              \n",
      "===================================================================================\n",
      "Dep. Variable:     Tesla Stock Close Price   R-squared:                       0.989\n",
      "Model:                                 OLS   Adj. R-squared:                  0.989\n",
      "Method:                      Least Squares   F-statistic:                 1.259e+04\n",
      "Date:                     Thu, 02 May 2024   Prob (F-statistic):               0.00\n",
      "Time:                             11:46:57   Log-Likelihood:                -518.06\n",
      "No. Observations:                      431   AIC:                             1044.\n",
      "Df Residuals:                          427   BIC:                             1060.\n",
      "Df Model:                                3                                         \n",
      "Covariance Type:                 nonrobust                                         \n",
      "=========================================================================================================\n",
      "                                            coef    std err          t      P>|t|      [0.025      0.975]\n",
      "---------------------------------------------------------------------------------------------------------\n",
      "const                                    -0.7304      0.261     -2.802      0.005      -1.243      -0.218\n",
      "Toyota Stock Price                        0.0082      0.003      2.662      0.008       0.002       0.014\n",
      "Previous Sentiment                        0.7427      0.439      1.693      0.091      -0.119       1.605\n",
      "Previous Week Tesla Stock Close Price     0.9820      0.009    108.942      0.000       0.964       1.000\n",
      "==============================================================================\n",
      "Omnibus:                       38.299   Durbin-Watson:                   1.630\n",
      "Prob(Omnibus):                  0.000   Jarque-Bera (JB):              158.037\n",
      "Skew:                           0.220   Prob(JB):                     4.82e-35\n",
      "Kurtosis:                       5.934   Cond. No.                     1.27e+03\n",
      "==============================================================================\n",
      "\n",
      "Notes:\n",
      "[1] Standard Errors assume that the covariance matrix of the errors is correctly specified.\n",
      "[2] The condition number is large, 1.27e+03. This might indicate that there are\n",
      "strong multicollinearity or other numerical problems.\n",
      "Toyota Stock Price                       2.838186\n",
      "Previous Sentiment                       1.154404\n",
      "Previous Week Tesla Stock Close Price    3.082939\n",
      "dtype: float64\n"
     ]
    }
   ],
   "source": [
    "#Now we eliminate Ford stock prices, since it has a very high p-value\n",
    "X_train = X_train.drop(columns=['Ford Stock Price'])\n",
    "X=X_train\n",
    "X2=sm.add_constant(X)\n",
    "lrm=sm.OLS(Y, X2).fit()\n",
    "print(lrm.summary())\n",
    "print(VIF(training_data, X_train.columns))"
   ]
  },
  {
   "cell_type": "code",
   "execution_count": 151,
   "metadata": {},
   "outputs": [
    {
     "name": "stdout",
     "output_type": "stream",
     "text": [
      "   const  Toyota Stock Price  Previous Sentiment  \\\n",
      "1    1.0          141.020000            0.170538   \n",
      "2    1.0          141.806000            0.092409   \n",
      "3    1.0          141.556000            0.134267   \n",
      "4    1.0          141.413998            0.231126   \n",
      "5    1.0          138.842499            0.205790   \n",
      "\n",
      "   Previous Week Tesla Stock Close Price  \n",
      "1                              33.525466  \n",
      "2                              35.679167  \n",
      "3                              38.820533  \n",
      "4                              51.983867  \n",
      "5                              52.226400  \n",
      "R2 Score: 0.9725787708603995\n",
      "OSR2 Score: 0.9922626917883026\n",
      "Mean Absolute Error: 10.098887378382408\n",
      "Mean Absolute Error Percentage: 0.07143988072713697\n"
     ]
    },
    {
     "data": {
      "image/png": "[encoded data removed]",
      "text/plain": [
       "<Figure size 640x480 with 1 Axes>"
      ]
     },
     "metadata": {},
     "output_type": "display_data"
    }
   ],
   "source": [
    "from sklearn.metrics import r2_score\n",
    "\n",
    "X_test = X_test.drop(columns=['Tesla Stock Open Price','Tesla Stock Volume','Tesla Stock Adj Close Price','Tesla Stock High','Tesla Stock Low','S&P 500 Variance', 'Tesla Wikipedia Page Views','Nissan Stock Price','Sentiment','Ford Stock Price','GM Stock Price'])\n",
    "X_test=sm.add_constant(X_test)\n",
    "print(X_test.head())\n",
    "y_pred = lrm.predict(X_test)\n",
    "\n",
    "# Assuming y_test and y_pred are the actual and predicted values, respectively\n",
    "r2 = r2_score(y_test, y_pred)\n",
    "print(\"R2 Score:\", r2)\n",
    "\n",
    "osr2=OSR2(lrm, y_train, X_test, y_test)\n",
    "print(\"OSR2 Score:\", osr2)\n",
    "\n",
    "mean_absolute_error = np.mean(np.abs(y_test - y_pred))\n",
    "mean_absolute_error_percentage = mean_absolute_error / np.mean(y_test)\n",
    "print(\"Mean Absolute Error:\", mean_absolute_error)\n",
    "print(\"Mean Absolute Error Percentage:\", mean_absolute_error_percentage)\n",
    "\n",
    "plt.title('Real vs Predicted Values')\n",
    "\n",
    "plt.plot(y_test,  label= 'Real Values')\n",
    "plt.plot(y_pred, label = 'Predicted Values')\n",
    "plt.legend()\n",
    "plt.show()"
   ]
  },
  {
   "cell_type": "markdown",
   "metadata": {},
   "source": [
    "## Load Data - Train & Test split with time benchmark"
   ]
  },
  {
   "cell_type": "markdown",
   "metadata": {},
   "source": [
    "#### Random split is needed for accuracy of tree-based models since the range of possible stock price values changes over time"
   ]
  },
  {
   "cell_type": "code",
   "execution_count": 152,
   "metadata": {},
   "outputs": [],
   "source": [
    "# Resplit the full dataset using a random procedure\n",
    "data = pd.read_csv(\"../data.csv\")\n",
    "train_data, test_data = train_test_split(data)\n",
    "test_data = test_data.drop(columns=['since', 'until','Unnamed: 0'])\n",
    "train_data = train_data.drop(columns=['since', 'until','Unnamed: 0'])\n",
    "\n",
    "train_data['Previous Sentiment'] = train_data['Sentiment'].shift(1)\n",
    "train_data = train_data[1:]\n",
    "test_data['Previous Sentiment'] = test_data['Sentiment'].shift(1)\n",
    "test_data = test_data[1:]"
   ]
  },
  {
   "cell_type": "code",
   "execution_count": 153,
   "metadata": {},
   "outputs": [],
   "source": [
    "y_train = train_data['Tesla Stock Price']\n",
    "X_train = train_data.drop(columns=['Tesla Stock Price','S&P 500 Variance', 'Tesla Wikipedia Page Views','Nissan Stock Price','Sentiment','Ford Stock Price','GM Stock Price'])\n",
    "\n",
    "y_test = test_data['Tesla Stock Price']\n",
    "X_test = test_data.drop(columns=['Tesla Stock Price','S&P 500 Variance', 'Tesla Wikipedia Page Views','Nissan Stock Price','Sentiment','Ford Stock Price','GM Stock Price'])"
   ]
  },
  {
   "cell_type": "markdown",
   "metadata": {
    "id": "G9AOg1RONIbS"
   },
   "source": [
    "## CART"
   ]
  },
  {
   "cell_type": "code",
   "execution_count": 154,
   "metadata": {
    "id": "Goknz0ulNIbT",
    "outputId": "6e86fc44-189a-4019-e064-eec29d8a1835"
   },
   "outputs": [],
   "source": [
    "grid_values = {'ccp_alpha': np.linspace(0, 0.001, 51)}\n",
    "\n",
    "dtr = DecisionTreeRegressor(min_samples_leaf=5, min_samples_split=20, random_state=88)\n",
    "cv = KFold(n_splits=5,random_state=1,shuffle=True) \n",
    "dtr_cv = GridSearchCV(dtr, param_grid=grid_values, scoring='r2', cv=cv, verbose=0)\n",
    "dtr_cv.fit(X_train, y_train)\n",
    "test_pred_cart, train_pred_cart = dtr_cv.predict(X_test), dtr_cv.predict(X_train)"
   ]
  },
  {
   "cell_type": "markdown",
   "metadata": {
    "id": "uGoe1rZONIbU"
   },
   "source": [
    "## RANDOM FORESTS"
   ]
  },
  {
   "cell_type": "code",
   "execution_count": 155,
   "metadata": {
    "id": "ox5Kl5kBNIbV",
    "outputId": "cdc153aa-8e26-421c-91ae-c882e027cb1a"
   },
   "outputs": [
    {
     "name": "stdout",
     "output_type": "stream",
     "text": [
      "Fitting 5 folds for each of 5 candidates, totalling 25 fits\n",
      "[CV] END max_features=1, min_samples_leaf=5, n_estimators=500, random_state=88; total time=   0.6s\n",
      "[CV] END max_features=1, min_samples_leaf=5, n_estimators=500, random_state=88; total time=   0.6s\n",
      "[CV] END max_features=1, min_samples_leaf=5, n_estimators=500, random_state=88; total time=   0.6s\n",
      "[CV] END max_features=1, min_samples_leaf=5, n_estimators=500, random_state=88; total time=   0.6s\n",
      "[CV] END max_features=1, min_samples_leaf=5, n_estimators=500, random_state=88; total time=   0.6s\n",
      "[CV] END max_features=2, min_samples_leaf=5, n_estimators=500, random_state=88; total time=   0.6s\n",
      "[CV] END max_features=2, min_samples_leaf=5, n_estimators=500, random_state=88; total time=   0.6s\n",
      "[CV] END max_features=2, min_samples_leaf=5, n_estimators=500, random_state=88; total time=   0.6s\n",
      "[CV] END max_features=2, min_samples_leaf=5, n_estimators=500, random_state=88; total time=   0.6s\n",
      "[CV] END max_features=2, min_samples_leaf=5, n_estimators=500, random_state=88; total time=   0.6s\n",
      "[CV] END max_features=3, min_samples_leaf=5, n_estimators=500, random_state=88; total time=   0.7s\n",
      "[CV] END max_features=3, min_samples_leaf=5, n_estimators=500, random_state=88; total time=   0.7s\n",
      "[CV] END max_features=3, min_samples_leaf=5, n_estimators=500, random_state=88; total time=   0.7s\n",
      "[CV] END max_features=3, min_samples_leaf=5, n_estimators=500, random_state=88; total time=   0.7s\n",
      "[CV] END max_features=3, min_samples_leaf=5, n_estimators=500, random_state=88; total time=   0.7s\n",
      "[CV] END max_features=4, min_samples_leaf=5, n_estimators=500, random_state=88; total time=   0.7s\n",
      "[CV] END max_features=4, min_samples_leaf=5, n_estimators=500, random_state=88; total time=   0.7s\n",
      "[CV] END max_features=4, min_samples_leaf=5, n_estimators=500, random_state=88; total time=   0.7s\n",
      "[CV] END max_features=4, min_samples_leaf=5, n_estimators=500, random_state=88; total time=   0.7s\n",
      "[CV] END max_features=4, min_samples_leaf=5, n_estimators=500, random_state=88; total time=   0.7s\n",
      "[CV] END max_features=5, min_samples_leaf=5, n_estimators=500, random_state=88; total time=   0.7s\n",
      "[CV] END max_features=5, min_samples_leaf=5, n_estimators=500, random_state=88; total time=   0.7s\n",
      "[CV] END max_features=5, min_samples_leaf=5, n_estimators=500, random_state=88; total time=   0.7s\n",
      "[CV] END max_features=5, min_samples_leaf=5, n_estimators=500, random_state=88; total time=   0.7s\n",
      "[CV] END max_features=5, min_samples_leaf=5, n_estimators=500, random_state=88; total time=   0.7s\n"
     ]
    }
   ],
   "source": [
    "grid_values = {'max_features': np.linspace(1,5,5, dtype='int32'),\n",
    "               'min_samples_leaf': [5],\n",
    "               'n_estimators': [500],\n",
    "               'random_state': [88]} \n",
    "\n",
    "rf2 = RandomForestRegressor() \n",
    "cv = KFold(n_splits=5,random_state=333,shuffle=True) \n",
    "rf_cv = GridSearchCV(rf2, param_grid=grid_values, scoring='r2', cv=cv,verbose=2)\n",
    "rf_cv.fit(X_train, y_train)\n",
    "test_pred_rf, train_pred_rf = rf_cv.predict(X_test), rf_cv.predict(X_train)"
   ]
  },
  {
   "cell_type": "markdown",
   "metadata": {
    "id": "4QRyHjU8NIbW"
   },
   "source": [
    "## GRADIENT BOOSTED TREES"
   ]
  },
  {
   "cell_type": "code",
   "execution_count": 156,
   "metadata": {},
   "outputs": [],
   "source": [
    "reg = GradientBoostingRegressor(random_state=99)\n",
    "reg.fit(X_train, y_train)\n",
    "test_pred_reg, train_pred_reg = reg.predict(X_test), reg.predict(X_train)"
   ]
  },
  {
   "cell_type": "markdown",
   "metadata": {},
   "source": [
    "## Ensemble Model Blending"
   ]
  },
  {
   "cell_type": "code",
   "execution_count": 157,
   "metadata": {},
   "outputs": [],
   "source": [
    "train = pd.DataFrame({'Tesla_Stock_Price': y_train, 'val_pred_cart': train_pred_cart, 'val_pred_rf': train_pred_rf, 'val_pred_reg': train_pred_reg})\n",
    "test = pd.DataFrame({'Tesla_Stock_Price': y_test, 'val_pred_cart': test_pred_cart, 'val_pred_rf': test_pred_rf, 'val_pred_reg': test_pred_reg})\n",
    "ensemble_model = smf.ols(formula='Tesla_Stock_Price ~ val_pred_cart+val_pred_reg+val_pred_rf -1', data=train).fit()"
   ]
  },
  {
   "cell_type": "markdown",
   "metadata": {},
   "source": [
    "## Model Comparison"
   ]
  },
  {
   "cell_type": "code",
   "execution_count": 158,
   "metadata": {},
   "outputs": [
    {
     "data": {
      "text/html": [
       "<div>\n",
       "<style scoped>\n",
       "    .dataframe tbody tr th:only-of-type {\n",
       "        vertical-align: middle;\n",
       "    }\n",
       "\n",
       "    .dataframe tbody tr th {\n",
       "        vertical-align: top;\n",
       "    }\n",
       "\n",
       "    .dataframe thead th {\n",
       "        text-align: right;\n",
       "    }\n",
       "</style>\n",
       "<table border=\"1\" class=\"dataframe\">\n",
       "  <thead>\n",
       "    <tr style=\"text-align: right;\">\n",
       "      <th></th>\n",
       "      <th>Linear Regressor</th>\n",
       "      <th>Decision Tree Regressor</th>\n",
       "      <th>Random Forest</th>\n",
       "      <th>Gradient Boosted Trees</th>\n",
       "      <th>Ensemble Model</th>\n",
       "    </tr>\n",
       "  </thead>\n",
       "  <tbody>\n",
       "    <tr>\n",
       "      <th>OSR2</th>\n",
       "      <td>0.899</td>\n",
       "      <td>0.967</td>\n",
       "      <td>0.982</td>\n",
       "      <td>0.984</td>\n",
       "      <td>0.984</td>\n",
       "    </tr>\n",
       "    <tr>\n",
       "      <th>Average Percent Test Error</th>\n",
       "      <td>0.2401</td>\n",
       "      <td>0.0936</td>\n",
       "      <td>0.0711</td>\n",
       "      <td>0.0732</td>\n",
       "      <td>0.0737</td>\n",
       "    </tr>\n",
       "  </tbody>\n",
       "</table>\n",
       "</div>"
      ],
      "text/plain": [
       "                           Linear Regressor Decision Tree Regressor  \\\n",
       "OSR2                                  0.899                   0.967   \n",
       "Average Percent Test Error           0.2401                  0.0936   \n",
       "\n",
       "                           Random Forest Gradient Boosted Trees Ensemble Model  \n",
       "OSR2                               0.982                  0.984          0.984  \n",
       "Average Percent Test Error        0.0711                 0.0732         0.0737  "
      ]
     },
     "execution_count": 158,
     "metadata": {},
     "output_type": "execute_result"
    }
   ],
   "source": [
    "comparison_data = {'Linear Regressor': ['{:.3f}'.format(OSR2(lrm, y_train, sm.add_constant(X_test), y_test)),\n",
    "                                               '{:.4f}'.format(avg_error(lrm.predict(sm.add_constant(X_test)), y_test))],\n",
    "                    'Decision Tree Regressor': ['{:.3f}'.format(OSR2(dtr_cv, y_train, X_test, y_test)),\n",
    "                                               '{:.4f}'.format(avg_error(dtr_cv.predict(X_test), y_test))],\n",
    "                   'Random Forest': ['{:.3f}'.format(OSR2(rf_cv, y_train, X_test, y_test)),\n",
    "                                     '{:.4f}'.format(avg_error(rf_cv.predict(X_test), y_test))], \n",
    "                   'Gradient Boosted Trees': ['{:.3f}'.format(OSR2(reg, y_train, X_test, y_test)),\n",
    "                                              '{:.4f}'.format(avg_error(reg.predict(X_test), y_test))],\n",
    "                  'Ensemble Model': ['{:.3f}'.format(OSR2(ensemble_model, y_train, test, y_test)),\n",
    "                                              '{:.4f}'.format(avg_error(ensemble_model.predict(test), y_test))]}\n",
    "\n",
    "comparison_table = pd.DataFrame(data=comparison_data, index=['OSR2', 'Average Percent Test Error'])\n",
    "comparison_table"
   ]
  },
  {
   "cell_type": "code",
   "execution_count": null,
   "metadata": {},
   "outputs": [],
   "source": []
  }
 ],
 "metadata": {
  "colab": {
   "provenance": []
  },
  "kernelspec": {
   "display_name": "Python 3 (ipykernel)",
   "language": "python",
   "name": "python3"
  },
  "language_info": {
   "codemirror_mode": {
    "name": "ipython",
    "version": 3
   },
   "file_extension": ".py",
   "mimetype": "text/x-python",
   "name": "python",
   "nbconvert_exporter": "python",
   "pygments_lexer": "ipython3",
   "version": "3.9.13"
  }
 },
 "nbformat": 4,
 "nbformat_minor": 1
}
